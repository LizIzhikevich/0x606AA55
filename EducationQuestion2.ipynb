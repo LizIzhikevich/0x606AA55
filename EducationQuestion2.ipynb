{
 "metadata": {
  "name": "",
  "signature": "sha256:5f566bbac26bb4a8c29a19f1c5ee252ff51a39c6a6434f382b68fbe9c23c18dc"
 },
 "nbformat": 3,
 "nbformat_minor": 0,
 "worksheets": [
  {
   "cells": [
    {
     "cell_type": "heading",
     "level": 1,
     "metadata": {},
     "source": [
      "Education Problem 1b - Predictors of Suspensions"
     ]
    },
    {
     "cell_type": "markdown",
     "metadata": {},
     "source": [
      "For this question, you will analyze __suspension and expulsion data__ from the California Department of Education and a unique collection of reports of disciplinary referrals as a local school that is using an alternative approach, the Monarch school.\n",
      "\n",
      "To do for this prompt: \n",
      "1. Explore the **statewide** data about suspensions and expulsions, looking for correlations and patterns.\n",
      "2. Study the records of disciplinary referrals from the **Monarch school**. \n",
      "\n",
      "----\n",
      "*From the statewide data*:\n",
      "\n",
      "// [California School Demographics](http://www.cde.ca.gov/ds/sd/sd/filesesd.asp) // [Data from Chicago](http://cps.edu/SchoolData/Pages/SchoolData.aspx) //\n",
      " + What are the strongest predictors of the population rate of suspensions at a school?\n",
      " + Holding key demographic factors constant, what are the strongest predictors rates of suspensions?\n",
      " + Identify schools that are outliers, for either high or low number of suspensions, accounting for prediction factors.\n",
      " + Find patterns by grade level\n",
      " \n",
      "----\n",
      "*From the Monarch School*:\n",
      "\n",
      "// [Monarch School Discipline Referrals](http://data.civicknowledge.com/stores/seDoCVvm7Y/tables/t03I02001.html) //\n",
      "+ Present **_descriptive statistics for referrals_**, considering the **student identity**, **time of day** and **behavior of single students** over the course of the day or week. \n",
      "+ Are there any distinguishing features of students that have a lot of referrals? \n",
      "  + Consider both aspects of the student, as well as **time**, **location**, **reporting staff** and other variables. \n",
      "+ What recommendations would you make to Monarch staff to further reduce the frequency of disciplinary referrals?\n",
      "+ School Staff: http://www.cde.ca.gov/ds/sd/df/filesstaffdemo.asp\n",
      "+ Notes:\n",
      " * When analyzing by grade level, use these grade level groupings: K-2, 3-5, 6-8 and 9-12.\n",
      " * When analyzing by time, consider time of day, day of week and month of year. \n",
      " * You should consider studying text fields and coding them in a way that would allow numerical analysis\n",
      "\n",
      "----\n",
      "Psychological background on effectiveness of school discipline (linked by Datathon organizers)\n",
      "\n",
      "* [Paper on Effective School Discipline](http://www.nasponline.org/publications/booksproducts/hchs3_samples/s4h18_discipline.pdf)\n",
      "* [Lincoln High School Case Study](http://acestoohigh.com/2012/04/23/lincoln-high-school-in-walla-walla-wa-tries-new-approach-to-school-discipline-expulsions-drop-85/)"
     ]
    },
    {
     "cell_type": "code",
     "collapsed": false,
     "input": [
      "import pandas as pd"
     ],
     "language": "python",
     "metadata": {},
     "outputs": [],
     "prompt_number": 2
    },
    {
     "cell_type": "code",
     "collapsed": false,
     "input": [
      "import numpy as np\n",
      "import statsmodels.api as sm #used for statistical modeling\n",
      "import matplotlib.pyplot as plt\n",
      "#to have plots show up automatically in notebook\n",
      "%matplotlib inline "
     ],
     "language": "python",
     "metadata": {},
     "outputs": [],
     "prompt_number": 3
    },
    {
     "cell_type": "markdown",
     "metadata": {},
     "source": [
      "Importing the Data Files"
     ]
    },
    {
     "cell_type": "code",
     "collapsed": false,
     "input": [
      "#reading in file\n",
      "diref_data = pd.read_csv('disciplinaryreferrals.csv')\n",
      "#renaming columns\n",
      "diref_data.rename(columns={'c03I02001_id': 'CaseNumber',\n",
      "                        'c03I02002_timestamp': 'TimeStamp',\n",
      "                        'c03I02003_student_id': 'StudentID',\n",
      "                        'c03I02004_grade': 'Grade',\n",
      "                        'c03I02005_date_and_time_of_misbehavior': 'Date/TimeofIncident',\n",
      "                        'c03I02006_location_of_misbehavior': 'Location',\n",
      "                        'c03I02007_documenting_staff_id': 'DocumentingStaffID',\n",
      "                        'c03I02008_documenting_staff': 'DocumentingStaff',\n",
      "                        'c03I02009_classroom_or_administrative_managed': 'ClassroomOrAdministrative',\n",
      "                        'c03I0200a_type_of_misbehavior': 'Type',\n",
      "                        'c03I0200b_narrative_description_of_misbehavior': 'Description',\n",
      "                        'c03I0200c_consequence': 'Consequence',\n",
      "                        'c03I0200d_reporting_staff_id': 'ReportingStaffID',\n",
      "                        'c03I0200e_reporting_staff': 'ReportingStaff',\n",
      "                        'c03I0200f_d12_planning_completed': 'D12Planning',\n",
      "                        'c03I0200g_narrative_of_consequence': 'NarrativeOfConsequence'\n",
      "                        }, inplace=True)\n",
      "\n",
      "# Deleting unneccesary information (case number:doesn't give new info,\n",
      "# teacher full names: have IDs,D12Planning:All say ABCD,\n",
      "# narrative of consequence: missing for most, Classroom or Administrative:Mostly Administrative)\n",
      "\n",
      "#Can comment out the bottom \"del\" if you would like to work with the values\n",
      "\n",
      "#del diref_data['CaseNumber']\n",
      "del diref_data['DocumentingStaff']\n",
      "del diref_data['ReportingStaff']\n",
      "del diref_data['ClassroomOrAdministrative']\n",
      "del diref_data['D12Planning']\n",
      "del diref_data['NarrativeOfConsequence']\n",
      "\n"
     ],
     "language": "python",
     "metadata": {},
     "outputs": [],
     "prompt_number": 4
    },
    {
     "cell_type": "markdown",
     "metadata": {},
     "source": [
      "Interested in seeing if there are teachers who give out more refferals than others...[Work in Progress]"
     ]
    },
    {
     "cell_type": "code",
     "collapsed": false,
     "input": [
      "highest_offense = 0 #to store the highest amount of offenses a teacher has had to deal with\n",
      "highest_offender = -1 #to store the teacher with most referrals \n",
      "\n",
      "\n",
      "#for loop to see how many times each teacher has given out a referral\n",
      "teacher_cases = {} #creating dictionary to store amount of times theyve been cited\n",
      "for teacher in diref_data['ReportingStaffID']:\n",
      "    if not teacher in teacher_cases:\n",
      "        teacher_cases[teacher] = 1\n",
      "    else:\n",
      "        teacher_cases[teacher] = teacher_cases[teacher]+1      \n",
      "\n",
      "#lets see which teacher gives out the most referrals\n",
      "for teacher in teacher_cases:\n",
      "    if teacher_cases[teacher]>highest_offense:\n",
      "        highest_offense = teacher_cases[teacher]\n",
      "        highest_offender = teacher\n",
      "print(\"Teacher\", highest_offender,\"has given the highest amount of referrals: \",highest_offense)\n",
      "            \n",
      "#plot a representative bar graph\n",
      "plt.bar(range(len(teacher_cases)), teacher_cases.values(), align='center')\n",
      "plt.xlabel('Teacher')\n",
      "plt.ylabel('Referral Cases')\n",
      "\n",
      "#The bar graph isn't really accurate in matching the teacher IDs because some IDs are missing\n",
      "plt.show()\n"
     ],
     "language": "python",
     "metadata": {},
     "outputs": [
      {
       "output_type": "stream",
       "stream": "stdout",
       "text": [
        "Teacher 127 has given the highest amount of referrals:  70\n"
       ]
      },
      {
       "metadata": {},
       "output_type": "display_data",
       "png": "[encoded data removed]",
       "text": [
        "<matplotlib.figure.Figure at 0x10d0c86a0>"
       ]
      }
     ],
     "prompt_number": 5
    },
    {
     "cell_type": "markdown",
     "metadata": {},
     "source": [
      "Attempting to make a word cloud out of the types of misbehavior... currently not working..."
     ]
    },
    {
     "cell_type": "code",
     "collapsed": false,
     "input": [
      "from os import path\n",
      "from wordcloud import WordCloud\n",
      "\n",
      "# Read the whole text.\n",
      "text = open('TypesOfMisbehavior.txt').read()\n",
      "wordcloud = WordCloud().generate(text)\n",
      "# Open a plot of the generated image.\n",
      "plt.imshow(wordcloud)\n",
      "plt.axis(\"off\")\n",
      "plt.show()"
     ],
     "language": "python",
     "metadata": {},
     "outputs": [
      {
       "ename": "OSError",
       "evalue": "cannot open resource",
       "output_type": "pyerr",
       "traceback": [
        "\u001b[0;31m---------------------------------------------------------------------------\u001b[0m\n\u001b[0;31mOSError\u001b[0m                                   Traceback (most recent call last)",
        "\u001b[0;32m<ipython-input-6-75d4a98d773e>\u001b[0m in \u001b[0;36m<module>\u001b[0;34m()\u001b[0m\n\u001b[1;32m      4\u001b[0m \u001b[0;31m# Read the whole text.\u001b[0m\u001b[0;34m\u001b[0m\u001b[0;34m\u001b[0m\u001b[0m\n\u001b[1;32m      5\u001b[0m \u001b[0mtext\u001b[0m \u001b[0;34m=\u001b[0m \u001b[0mopen\u001b[0m\u001b[0;34m(\u001b[0m\u001b[0;34m'TypesOfMisbehavior.txt'\u001b[0m\u001b[0;34m)\u001b[0m\u001b[0;34m.\u001b[0m\u001b[0mread\u001b[0m\u001b[0;34m(\u001b[0m\u001b[0;34m)\u001b[0m\u001b[0;34m\u001b[0m\u001b[0m\n\u001b[0;32m----> 6\u001b[0;31m \u001b[0mwordcloud\u001b[0m \u001b[0;34m=\u001b[0m \u001b[0mWordCloud\u001b[0m\u001b[0;34m(\u001b[0m\u001b[0;34m)\u001b[0m\u001b[0;34m.\u001b[0m\u001b[0mgenerate\u001b[0m\u001b[0;34m(\u001b[0m\u001b[0mtext\u001b[0m\u001b[0;34m)\u001b[0m\u001b[0;34m\u001b[0m\u001b[0m\n\u001b[0m\u001b[1;32m      7\u001b[0m \u001b[0;31m# Open a plot of the generated image.\u001b[0m\u001b[0;34m\u001b[0m\u001b[0;34m\u001b[0m\u001b[0m\n\u001b[1;32m      8\u001b[0m \u001b[0mplt\u001b[0m\u001b[0;34m.\u001b[0m\u001b[0mimshow\u001b[0m\u001b[0;34m(\u001b[0m\u001b[0mwordcloud\u001b[0m\u001b[0;34m)\u001b[0m\u001b[0;34m\u001b[0m\u001b[0m\n",
        "\u001b[0;32m/Users/Izhikevich/anaconda/lib/python3.4/site-packages/wordcloud/wordcloud.py\u001b[0m in \u001b[0;36mgenerate\u001b[0;34m(self, text)\u001b[0m\n\u001b[1;32m    311\u001b[0m         \"\"\"\n\u001b[1;32m    312\u001b[0m         \u001b[0mself\u001b[0m\u001b[0;34m.\u001b[0m\u001b[0mprocess_text\u001b[0m\u001b[0;34m(\u001b[0m\u001b[0mtext\u001b[0m\u001b[0;34m)\u001b[0m\u001b[0;34m\u001b[0m\u001b[0m\n\u001b[0;32m--> 313\u001b[0;31m         \u001b[0mself\u001b[0m\u001b[0;34m.\u001b[0m\u001b[0mfit_words\u001b[0m\u001b[0;34m(\u001b[0m\u001b[0mself\u001b[0m\u001b[0;34m.\u001b[0m\u001b[0mwords_\u001b[0m\u001b[0;34m)\u001b[0m\u001b[0;34m\u001b[0m\u001b[0m\n\u001b[0m\u001b[1;32m    314\u001b[0m         \u001b[0;32mreturn\u001b[0m \u001b[0mself\u001b[0m\u001b[0;34m\u001b[0m\u001b[0m\n\u001b[1;32m    315\u001b[0m \u001b[0;34m\u001b[0m\u001b[0m\n",
        "\u001b[0;32m/Users/Izhikevich/anaconda/lib/python3.4/site-packages/wordcloud/wordcloud.py\u001b[0m in \u001b[0;36mfit_words\u001b[0;34m(self, words)\u001b[0m\n\u001b[1;32m    178\u001b[0m             \u001b[0;32mwhile\u001b[0m \u001b[0;32mTrue\u001b[0m\u001b[0;34m:\u001b[0m\u001b[0;34m\u001b[0m\u001b[0m\n\u001b[1;32m    179\u001b[0m                 \u001b[0;31m# try to find a position\u001b[0m\u001b[0;34m\u001b[0m\u001b[0;34m\u001b[0m\u001b[0m\n\u001b[0;32m--> 180\u001b[0;31m                 \u001b[0mfont\u001b[0m \u001b[0;34m=\u001b[0m \u001b[0mImageFont\u001b[0m\u001b[0;34m.\u001b[0m\u001b[0mtruetype\u001b[0m\u001b[0;34m(\u001b[0m\u001b[0mself\u001b[0m\u001b[0;34m.\u001b[0m\u001b[0mfont_path\u001b[0m\u001b[0;34m,\u001b[0m \u001b[0mfont_size\u001b[0m\u001b[0;34m)\u001b[0m\u001b[0;34m\u001b[0m\u001b[0m\n\u001b[0m\u001b[1;32m    181\u001b[0m                 \u001b[0;31m# transpose font optionally\u001b[0m\u001b[0;34m\u001b[0m\u001b[0;34m\u001b[0m\u001b[0m\n\u001b[1;32m    182\u001b[0m                 \u001b[0;32mif\u001b[0m \u001b[0mrandom_state\u001b[0m\u001b[0;34m.\u001b[0m\u001b[0mrandom\u001b[0m\u001b[0;34m(\u001b[0m\u001b[0;34m)\u001b[0m \u001b[0;34m<\u001b[0m \u001b[0mself\u001b[0m\u001b[0;34m.\u001b[0m\u001b[0mprefer_horizontal\u001b[0m\u001b[0;34m:\u001b[0m\u001b[0;34m\u001b[0m\u001b[0m\n",
        "\u001b[0;32m/Users/Izhikevich/anaconda/lib/python3.4/site-packages/PIL/ImageFont.py\u001b[0m in \u001b[0;36mtruetype\u001b[0;34m(font, size, index, encoding, filename)\u001b[0m\n\u001b[1;32m    226\u001b[0m \u001b[0;34m\u001b[0m\u001b[0m\n\u001b[1;32m    227\u001b[0m     \u001b[0;32mtry\u001b[0m\u001b[0;34m:\u001b[0m\u001b[0;34m\u001b[0m\u001b[0m\n\u001b[0;32m--> 228\u001b[0;31m         \u001b[0;32mreturn\u001b[0m \u001b[0mFreeTypeFont\u001b[0m\u001b[0;34m(\u001b[0m\u001b[0mfont\u001b[0m\u001b[0;34m,\u001b[0m \u001b[0msize\u001b[0m\u001b[0;34m,\u001b[0m \u001b[0mindex\u001b[0m\u001b[0;34m,\u001b[0m \u001b[0mencoding\u001b[0m\u001b[0;34m)\u001b[0m\u001b[0;34m\u001b[0m\u001b[0m\n\u001b[0m\u001b[1;32m    229\u001b[0m     \u001b[0;32mexcept\u001b[0m \u001b[0mIOError\u001b[0m\u001b[0;34m:\u001b[0m\u001b[0;34m\u001b[0m\u001b[0m\n\u001b[1;32m    230\u001b[0m         \u001b[0;32mif\u001b[0m \u001b[0msys\u001b[0m\u001b[0;34m.\u001b[0m\u001b[0mplatform\u001b[0m \u001b[0;34m==\u001b[0m \u001b[0;34m\"win32\"\u001b[0m\u001b[0;34m:\u001b[0m\u001b[0;34m\u001b[0m\u001b[0m\n",
        "\u001b[0;32m/Users/Izhikevich/anaconda/lib/python3.4/site-packages/PIL/ImageFont.py\u001b[0m in \u001b[0;36m__init__\u001b[0;34m(self, font, size, index, encoding, file)\u001b[0m\n\u001b[1;32m    129\u001b[0m \u001b[0;34m\u001b[0m\u001b[0m\n\u001b[1;32m    130\u001b[0m         \u001b[0;32mif\u001b[0m \u001b[0misPath\u001b[0m\u001b[0;34m(\u001b[0m\u001b[0mfont\u001b[0m\u001b[0;34m)\u001b[0m\u001b[0;34m:\u001b[0m\u001b[0;34m\u001b[0m\u001b[0m\n\u001b[0;32m--> 131\u001b[0;31m             \u001b[0mself\u001b[0m\u001b[0;34m.\u001b[0m\u001b[0mfont\u001b[0m \u001b[0;34m=\u001b[0m \u001b[0mcore\u001b[0m\u001b[0;34m.\u001b[0m\u001b[0mgetfont\u001b[0m\u001b[0;34m(\u001b[0m\u001b[0mfont\u001b[0m\u001b[0;34m,\u001b[0m \u001b[0msize\u001b[0m\u001b[0;34m,\u001b[0m \u001b[0mindex\u001b[0m\u001b[0;34m,\u001b[0m \u001b[0mencoding\u001b[0m\u001b[0;34m)\u001b[0m\u001b[0;34m\u001b[0m\u001b[0m\n\u001b[0m\u001b[1;32m    132\u001b[0m         \u001b[0;32melse\u001b[0m\u001b[0;34m:\u001b[0m\u001b[0;34m\u001b[0m\u001b[0m\n\u001b[1;32m    133\u001b[0m             \u001b[0mself\u001b[0m\u001b[0;34m.\u001b[0m\u001b[0mfont_bytes\u001b[0m \u001b[0;34m=\u001b[0m \u001b[0mfont\u001b[0m\u001b[0;34m.\u001b[0m\u001b[0mread\u001b[0m\u001b[0;34m(\u001b[0m\u001b[0;34m)\u001b[0m\u001b[0;34m\u001b[0m\u001b[0m\n",
        "\u001b[0;31mOSError\u001b[0m: cannot open resource"
       ]
      }
     ],
     "prompt_number": 6
    },
    {
     "cell_type": "markdown",
     "metadata": {},
     "source": [
      "Plan: See which setting students are usually given refferals in: during gym class? or during math class?"
     ]
    },
    {
     "cell_type": "code",
     "collapsed": false,
     "input": [
      "most_common_location= 'null' #to store the most common locaiton a referral was given in\n",
      "location_amount = -1 #to the amount of times that referral was given in that location\n",
      "\n",
      "\n",
      "#for loop to see how many times each location had a referral given out in\n",
      "location_cases = {} #creating dictionary to store amount of different locations\n",
      "for location in diref_data['Location']:\n",
      "    if not location in location_cases:\n",
      "        location_cases[location] = 1\n",
      "    else:\n",
      "        location_cases[location] = location_cases[location]+1      \n",
      "\n",
      "#lets see which locaiton provokes the most referrals\n",
      "for location in location_cases:\n",
      "    if location_cases[location]>location_amount:\n",
      "        location_amount = location_cases[location]\n",
      "        most_common_location = location\n",
      "    \n",
      "    \n",
      "print(\"Location:\", most_common_location,\"has provoked highest amount of referrals: \",location_amount)\n",
      "print('Top 5 places a kid is most likely going to get a referral:\\n',\n",
      "      sorted(location_cases, key=location_cases.__getitem__, reverse = True)[0:5])    \n",
      "\n",
      "\n",
      "#plot a representative bar graph\n",
      "plt.bar(range(len(location_cases)), location_cases.values(), align='center')\n",
      "plt.xlabel('Location')\n",
      "plt.ylabel('Referral Cases')\n",
      "\n",
      "#The bar graph\n",
      "plt.show()\n",
      "\n"
     ],
     "language": "python",
     "metadata": {},
     "outputs": []
    },
    {
     "cell_type": "markdown",
     "metadata": {},
     "source": [
      "Looks like the classroom is the most likely place at Monarch..."
     ]
    },
    {
     "cell_type": "markdown",
     "metadata": {},
     "source": [
      "Lets look at the type of offense now..."
     ]
    },
    {
     "cell_type": "code",
     "collapsed": false,
     "input": [
      "most_common_offense= 'null' #to store the most common offense\n",
      "offense_amount = -1 #to the amount of times that offense was commited\n",
      "\n",
      "\n",
      "#for loop to see how many times each unique offense was commited \n",
      "offense_cases = {} #creating dictionary to store amount of offenses\n",
      "for offense in diref_data['Type']:\n",
      "    if not offense in offense_cases:\n",
      "        offense_cases[offense] = 1\n",
      "    else:\n",
      "        offense_cases[offense] = offense_cases[offense]+1      \n",
      "\n",
      "#lets see which locaiton provokes the most referrals\n",
      "for offense in offense_cases:\n",
      "    if offense_cases[offense]>offense_amount:\n",
      "        offense_amount = offense_cases[offense]\n",
      "        most_common_offense = offense_amount\n",
      "    \n",
      "print(offense_cases)    \n",
      "print(\"Offense:\", most_common_offense,\"has been commited: \",offense_amount, \"times\")\n",
      "print('Top 5 offenses a kid is most likely going to commit:\\n',\n",
      "      sorted(offense_cases, key=offense_cases.__getitem__, reverse = True)[0:5])    \n",
      "\n",
      "\n",
      "#plot a representative bar graph\n",
      "plt.bar(range(len(offense_cases)), offense_cases.values(), align='center')\n",
      "plt.xlabel('Offense')\n",
      "plt.ylabel('Offense Cases')\n",
      "\n",
      "#The bar graph \n",
      "plt.show()\n",
      "\n"
     ],
     "language": "python",
     "metadata": {},
     "outputs": [
      {
       "output_type": "stream",
       "stream": "stdout",
       "text": [
        "{'taking things': 1, 'No Supplies (CM)': 1, 'Minor Disruptions (CM), Minor Harassment (CM), spitting water on another student': 1, 'Minor Disruptions (CM), Non-compliance/off-task (CM), Unauthorized Cell Phone/Electronic Device Use (CM), Recurring teacher managed behavior checked above (D12)': 3, 'Non-compliance/off-task (CM), Profanity directed at students (CM), Unauthorized Cell Phone/Electronic Device Use (CM), Recurring teacher managed behavior checked above (D12), Major Defiances (D12), Major Disruptions (D12), Profanity directed at adults (D12)': 1, 'Minor Disruptions (CM), Major Disruptions (D12)': 1, 'Non-compliance/off-task (CM), riding scooter': 1, 'Major Defiances (D12), Major Disruptions (D12), Cussing at staff': 1, 'horse playing': 1, 'Recurring teacher managed behavior checked above (D12), Major Disruptions (D12), Verbal/Physical Intimidation (D12)': 1, 'Major Defiances (D12), Major Disruptions (D12), Disrespectful language': 1, 'Major Defiances (D12), walked out for restroom w/o permission': 1, 'Minor Disruptions (CM), Minor Harassment (CM), Non-compliance/off-task (CM), Play fighting (CM)': 1, 'Profanity directed at students (CM), Recurring teacher managed behavior checked above (D12), Fighting (D12), Verbal/Physical Intimidation (D12)': 1, 'Major Defiances (D12), Major Disruptions (D12), profanity directed at students': 1, 'Name Calling (CM), Profanity directed at students (CM), Tardy (CM), Unauthorized Cell Phone/Electronic Device Use (CM), Recurring teacher managed behavior checked above (D12), Major Defiances (D12), Major Disruptions (D12), Repeated Cell phone/electronic device use (D12), Truancy/Ditching (D12)': 1, 'Major Disruptions (D12), Play fighting': 2, 'Unauthorized Cell Phone/Electronic Device Use (CM)': 4, 'Major Theft (D12)': 6, 'Major Disruptions (D12)': 34, 'Profanity directed at students (CM), Major Defiances (D12)': 1, 'Name Calling (CM), Profanity directed at students (CM)': 3, 'Profanity not directed at anybody': 1, 'Minor Disruptions (CM), Non-compliance/off-task (CM), Play fighting (CM), Recurring teacher managed behavior checked above (D12), Fighting (D12), Major Disruptions (D12), Verbal/Physical Intimidation (D12)': 1, 'Major Disruptions (D12), Profanity directed at adults (D12), Disrespectful language': 1, 'Non-compliance/off-task (CM), Recurring teacher managed behavior checked above (D12), Major Defiances (D12)': 8, 'Disrespectful language toward staff': 1, 'Non-compliance/off-task (CM), Major Defiances (D12), Major Disruptions (D12), ripping papers off displays': 1, 'throwing food at students': 1, 'Cheating (CM), Minor Disruptions (CM), No Homework (CM), Non-compliance/off-task (CM), Major Disruptions (D12), Verbal/Physical Intimidation (D12)': 1, 'disrespectful language toward teacher': 2, 'Fighting (D12), Major Disruptions (D12)': 4, 'No Homework (CM), Non-compliance/off-task (CM), Recurring teacher managed behavior checked above (D12)': 1, 'walked out': 1, 'Minor Disruptions (CM), throwing paper in the classroom.': 1, 'Non-compliance/off-task (CM), Major Disruptions (D12)': 3, 'Non-compliance/off-task (CM), roaming hallways': 1, 'Minor Disruptions (CM), inappropriate language': 1, 'Major Disruptions (D12), Verbal/Physical Intimidation (D12)': 3, 'up out of his seat': 1, 'Major Defiances (D12), Major Disruptions (D12), Profanity directed at adults (D12), Verbal/Physical Intimidation (D12)': 2, 'Major Disruptions (D12), Repeated Cell phone/electronic device use (D12)': 1, 'Minor Disruptions (CM), Non-compliance/off-task (CM), Unauthorized food/gum chewing (CM)': 1, 'Name Calling (CM), Non-compliance/off-task (CM), Major Disruptions (D12)': 1, 'Minor Disruptions (CM), Non-compliance/off-task (CM)': 39, 'Name Calling (CM), Non-compliance/off-task (CM), Recurring teacher managed behavior checked above (D12)': 2, 'Profanity directed at students (CM)': 9, 'Non-compliance/off-task (CM), Play fighting (CM), Profanity directed at students (CM), Recurring teacher managed behavior checked above (D12), Major Defiances (D12), Major Disruptions (D12), middle finger': 1, 'Recurring teacher managed behavior checked above (D12), Excessive tardiness (D12)': 1, 'Truancy/Ditching (D12)': 1, 'Minor Disruptions (CM), being rude': 1, 'Minor Disruptions (CM), Recurring teacher managed behavior checked above (D12), Mocking other students': 1, 'Minor Disruptions (CM), Verbal/Physical Intimidation (D12)': 4, 'Play Fighting': 3, 'Minor Disruptions (CM), Minor Harassment (CM), Verbal/Physical Intimidation (D12)': 2, 'Minor Disruptions (CM), Recurring teacher managed behavior checked above (D12), Disrespectful language': 2, 'Non-compliance/off-task (CM), Major Defiances (D12)': 5, 'Minor Disruptions (CM), Play fighting (CM), Unauthorized Cell Phone/Electronic Device Use (CM)': 1, 'Major Disruptions (D12), throwing food': 6, 'leaving campus': 1, 'Verbal/Physical Intimidation (D12), Weapons (D12)': 4, 'Minor Disruptions (CM), Non-compliance/off-task (CM), sleepy in class': 1, 'Minor Disruptions (CM), Non-compliance/off-task (CM), Recurring teacher managed behavior checked above (D12)': 82, 'Non-compliance/off-task (CM), Profanity directed at students (CM), out of her seat': 1, 'Minor Disruptions (CM), Profanity directed at students (CM), Recurring teacher managed behavior checked above (D12)': 3, 'Major Disruptions (D12), calling classmates out of their names': 1, 'Major Disruptions (D12),  Sarcastic': 1, 'student shoved another student being taken to d-12': 1, 'Profanity directed at students (CM), Throwing a ball': 1, 'calling student gay': 1, 'Recurring teacher managed behavior checked above (D12), Major Defiances (D12), Major Disruptions (D12)': 2, 'Play fighting (CM), Recurring teacher managed behavior checked above (D12)': 1, 'Profanity directed at students (CM), pushing': 1, 'Non-compliance/off-task (CM)': 36, 'Minor Disruptions (CM), Name Calling (CM), Non-compliance/off-task (CM), Recurring teacher managed behavior checked above (D12)': 1, 'Fighting (D12), Major Defiances (D12), Major Disruptions (D12)': 4, 'Minor Disruptions (CM), Non-compliance/off-task (CM), Recurring teacher managed behavior checked above (D12), Instant messaging via Chromebook': 1, 'Recurring teacher managed behavior checked above (D12), Major Disruptions (D12)': 1, 'spit on student': 2, 'Major Disruptions (D12),  Profanity directed at students': 1, 'Non-compliance/off-task (CM), Play fighting (CM), Recurring teacher managed behavior checked above (D12), Major Disruptions (D12)': 1, 'Weapons (D12)': 3, 'Major Disruptions (D12), Throwing Pencils': 1, 'Minor Disruptions (CM), Non-compliance/off-task (CM), Major Defiances (D12)': 3, 'Fighting': 1, 'commentary': 1, 'Non-compliance/off-task (CM), Major Defiances (D12), eating/drinking in class': 1, 'Non-compliance/off-task (CM), Major Disruptions (D12), throwing food at students': 1, 'Non-compliance/off-task (CM), Profanity directed at students (CM), Major Defiances (D12), Major Disruptions (D12), Profanity directed at adults (D12)': 1, 'Profanity directed at adults (D12)': 4, 'gave classmates \"the finger\"': 1, 'Major Defiances (D12), Jay walking': 1, 'Minor Disruptions (CM), Non-compliance/off-task (CM), Major Disruptions (D12)': 1, 'Minor Disruptions (CM), Non-compliance/off-task (CM), Play fighting (CM), Major Disruptions (D12), throwing things': 1, 'Recurring teacher managed behavior checked above (D12), Fighting (D12), Major Disruptions (D12)': 1, 'Non-compliance/off-task (CM), ditching class': 1, 'Minor Disruptions (CM), Name Calling (CM)': 1, 'Major Defiances (D12), Major Disruptions (D12), Profanity directed at adults (D12)': 5, 'Minor Disruptions (CM), Play fighting (CM)': 3, 'Non-compliance/off-task (CM), Recurring teacher managed behavior checked above (D12), Major Defiances (D12), Major Disruptions (D12)': 2, 'Havent done anywork within two days': 1, 'Major Defiances (D12), Truancy from Running Club': 1, 'Minor Disruptions (CM), Minor Harassment (CM), Play fighting (CM)': 2, 'Minor Disruptions (CM), Non-compliance/off-task (CM), Play fighting (CM), Profanity directed at students (CM)': 1, 'Minor Disruptions (CM), Disrespectful language toward staff': 1, 'Minor Disruptions (CM), Name Calling (CM), Non-compliance/off-task (CM)': 2, 'Non-compliance/off-task (CM), Recurring teacher managed behavior checked above (D12), sleeping': 1, 'Non-compliance/off-task (CM), Recurring teacher managed behavior checked above (D12)': 27, 'Unauthorized Cell Phone/Electronic Device Use (CM), Major Defiances (D12)': 1, 'Attendance (CM), Verbal/Physical Intimidation (D12)': 1, 'Unauthorized food/gum chewing (CM), Recurring teacher managed behavior checked above (D12)': 1, 'Classroom Minor Vandalism (CM), Minor Disruptions (CM), Name Calling (CM), Non-compliance/off-task (CM), Play fighting (CM)': 1, 'Non-compliance/off-task (CM), Tardy (CM), Excessive tardiness (D12)': 1, 'Recurring teacher managed behavior checked above (D12), Head down in class': 1, 'Minor Harassment (CM), Non-compliance/off-task (CM), Play fighting (CM), Verbal/Physical Intimidation (D12)': 1, 'Minor Disruptions (CM), Fighting (D12)': 1, 'Minor Disruptions (CM), Non-compliance/off-task (CM), threw a pencil and hit another student': 1, 'Minor Disruptions (CM), Play fighting (CM), Recurring teacher managed behavior checked above (D12)': 1, 'Minor Disruptions (CM), Non-compliance/off-task (CM), Play fighting (CM), Verbal/Physical Intimidation (D12)': 1, 'Verbal/Physical Intimidation (D12)': 107, 'Unauthorized Cell Phone/Electronic Device Use (CM), listening to music': 1, 'Non-compliance/off-task (CM), walked out of class w/o permission': 1, 'Non-compliance/off-task (CM), giving workbook to another student': 1, 'Non-compliance/off-task (CM), Recurring teacher managed behavior checked above (D12), name calling': 1, 'Minor Disruptions (CM), Non-compliance/off-task (CM), physical contact': 1, 'Minor Harassment (CM)': 4, 'Throwing wet paper towels in bathroom': 1, 'Non-compliance/off-task (CM), Unauthorized Cell Phone/Electronic Device Use (CM)': 1, 'Minor Disruptions (CM), Major Defiances (D12)': 3, 'Minor Disruptions (CM), Non-compliance/off-task (CM), Play fighting (CM), Major Disruptions (D12)': 1, 'Non-compliance/off-task (CM), Major Defiances (D12), Verbal/Physical Intimidation (D12)': 1, 'Profanity directed at students (CM), Major Disruptions (D12)': 3, 'Non-compliance/off-task (CM), Disrespectful language': 2, 'Minor Harassment (CM), Play fighting (CM)': 2, 'Non-compliance/off-task (CM), Play fighting (CM)': 2, 'Non-compliance/off-task (CM), Profanity directed at students (CM), Recurring teacher managed behavior checked above (D12), Major Disruptions (D12), Profanity directed at adults (D12)': 1, 'Non-compliance/off-task (CM), turning up volume on smart board': 1, 'playing w food': 1, 'Classroom Minor Vandalism (CM), Minor Disruptions (CM), Name Calling (CM), Non-compliance/off-task (CM), Fighting (D12), Major Defiances (D12), Major Disruptions (D12), Verbal/Physical Intimidation (D12), Ninja Star': 1, 'Profanity directed at students (CM), Verbal/Physical Intimidation (D12)': 2, 'Minor Disruptions (CM), Fighting (D12), Verbal/Physical Intimidation (D12)': 1, 'Minor Disruptions (CM), Non-compliance/off-task (CM), Recurring teacher managed behavior checked above (D12), threw a pencil': 1, 'Throwing Rocks': 1, 'Minor Disruptions (CM), Disrespectful language': 1, 'Minor Disruptions (CM), Name Calling (CM), Fighting (D12)': 1, 'Non-compliance/off-task (CM), Major Defiances (D12), Major Disruptions (D12)': 3, 'Minor Disruptions (CM), Knocking on 7th grade classroom door': 1, 'Minor Disruptions (CM), Major Defiances (D12), punching walls in hallway': 1, 'Minor Harassment (CM), Recurring teacher managed behavior checked above (D12)': 1, 'breaking glass in class': 1, 'Minor Disruptions (CM), Non-compliance/off-task (CM), Recurring teacher managed behavior checked above (D12), throwing crayons in class': 1, 'Minor Disruptions (CM), Non-compliance/off-task (CM), Eating/Sharing Food': 1, 'Profanity towards classmates': 1, 'No Homework (CM), Non-compliance/off-task (CM), Recurring teacher managed behavior checked above (D12), Continuously Refusing to do work': 1, 'Non-compliance/off-task (CM), Profanity directed at students (CM), Recurring teacher managed behavior checked above (D12), Major Disruptions (D12)': 1, 'disrespectful language': 3, 'Major Defiances (D12), Profanity directed at adults (D12)': 2, 'Major Harassment (inl. sexual) (D12), Verbal/Physical Intimidation (D12)': 1, 'Disrespectful language': 5, 'refusing to return to class after recess': 1, 'Non-compliance/off-task (CM), Major Defiances (D12), threw a pencil': 1, 'Major Vandalism (D12)': 6, 'Recurring teacher managed behavior checked above (D12), Verbal/Physical Intimidation (D12)': 1, 'Fighting (D12), Major Defiances (D12)': 1, 'tried to hit staff with a ball': 1, 'Non-compliance/off-task (CM), made student trip on a soccer goal': 1, 'saying the N word': 1, 'Non-compliance/off-task (CM), Verbal/Physical Intimidation (D12)': 2, 'Not feeling well': 1, 'Tantrum': 1, 'Play fighting (CM)': 11, 'Name Calling (CM)': 3, 'Major Disruptions (D12), throwing things': 1, 'Minor Disruptions (CM), Non-compliance/off-task (CM), Recurring teacher managed behavior checked above (D12), Disrespectful language': 3, 'Minor Disruptions (CM), Non-compliance/off-task (CM), Tardy (CM), Recurring teacher managed behavior checked above (D12)': 1, 'Major Defiances (D12), Major Disruptions (D12), No Doing Work': 1, 'Minor Disruptions (CM), Recurring teacher managed behavior checked above (D12)': 31, 'Profanity directed at students (CM), Profanity directed at adults (D12)': 1, 'Profanity directed at students (CM), Major Defiances (D12), Major Disruptions (D12)': 3, 'Food Fighting': 2, 'Major Defiances (D12), Major Disruptions (D12), Major Vandalism (D12)': 2, 'drawing on the hallway walls': 1, 'Putting his feet on students': 1, 'Tardy (CM)': 3, 'Non-compliance/off-task (CM), Tardy (CM), Recurring teacher managed behavior checked above (D12)': 1, 'Major Defiances (D12), Major Vandalism (D12)': 1, 'Matches': 1, 'Major Defiances (D12), Major Disruptions (D12), Verbal/Physical Intimidation (D12)': 6, 'Non-compliance/off-task (CM), Recurring teacher managed behavior checked above (D12), Major Defiances (D12), skipping detention': 1, 'calling classmates out of their names': 2, 'Verbal/Physical Intimidation (D12), slamming the classroom door': 1, 'Non-compliance/off-task (CM), sleeping in class': 1, 'Non-compliance/off-task (CM), Profanity directed at students (CM), Recurring teacher managed behavior checked above (D12)': 1, 'Major Defiances (D12), Major Disruptions (D12), Foul Language': 1, 'Major Defiances (D12), Verbal/Physical Intimidation (D12)': 3, 'Repeated Cell phone/electronic device use (D12), refusing to turn in phone': 1, 'tardy/roaming halls': 1, 'writing profanity': 1, 'Putting hands on others': 1, 'Mocking the teacher': 1, 'Sleeping': 1, 'Minor Disruptions (CM), Recurring teacher managed behavior checked above (D12), arguing with a student': 1, 'Major Harassment (inl. sexual) (D12)': 1, 'Fighting (D12)': 8, 'Minor Disruptions (CM)': 40, 'Non-compliance/off-task (CM), Recurring teacher managed behavior checked above (D12), Disrespectful language': 2, 'riding scooter': 1, 'Play fighting (CM), Verbal/Physical Intimidation (D12)': 2, 'Classroom Minor Vandalism (CM), Non-compliance/off-task (CM), Major Disruptions (D12), breaking glass in class': 1, 'Name Calling (CM), Recurring teacher managed behavior checked above (D12)': 2, 'Play fighting (CM), Spanking another students bottom': 1, 'pushing': 1, 'in bathroom when class began': 1, 'Profanity directed at adults (D12), Verbal/Physical Intimidation (D12)': 1, 'student was sitting in on wrong class': 1, 'Non-compliance/off-task (CM), Play fighting (CM), Recurring teacher managed behavior checked above (D12)': 3, 'Recurring teacher managed behavior checked above (D12)': 1, 'Minor Disruptions (CM), spraying white board cleaner on table/papers': 1, 'yelling at teacher': 1, 'Major Defiances (D12), Attitude (eye rolling)': 1, 'Major Defiances (D12), Disrespectful language': 1, 'needed to speak with Student Advocate': 1, 'Minor Disruptions (CM), Non-compliance/off-task (CM), Major Defiances (D12), Verbal/Physical Intimidation (D12)': 1, 'Non-compliance/off-task (CM), Recurring teacher managed behavior checked above (D12), sleeping in class': 1, 'Recurring teacher managed behavior checked above (D12), Major Defiances (D12)': 2, 'Non-compliance/off-task (CM), Recurring teacher managed behavior checked above (D12), left classroom without permission': 1, 'Major Defiances (D12), Eating food in class': 1, 'Non-compliance/off-task (CM), Recurring teacher managed behavior checked above (D12), playing board games': 1, 'Minor Disruptions (CM), Non-compliance/off-task (CM), Disrespectful language': 2, 'Cheating (CM), Classroom Minor Vandalism (CM)': 1, 'hit student accidentally': 1, 'Minor Disruptions (CM), Profanity directed at students (CM)': 1, 'Minor Disruptions (CM), Name Calling (CM), Non-compliance/off-task (CM), Profanity directed at students (CM)': 1, 'Horse playing': 1, 'Non-compliance/off-task (CM), Recurring teacher managed behavior checked above (D12), Verbal/Physical Intimidation (D12)': 2, 'Major Defiances (D12), throwing food': 1, 'Running in the hallway': 1, 'Classroom Minor Vandalism (CM)': 1, 'Name Calling (CM), Play fighting (CM), Verbal/Physical Intimidation (D12)': 1, 'Minor Disruptions (CM), Non-compliance/off-task (CM), Profanity directed at students (CM)': 2, 'Minor Disruptions (CM), Non-compliance/off-task (CM), Truancy/Ditching (D12)': 1, 'Minor Disruptions (CM), Non-compliance/off-task (CM), Play fighting (CM), Unauthorized food/gum chewing (CM), throwing food at students': 1, 'disrespectful': 1, 'Major Defiances (D12), Major Disruptions (D12)': 130, 'Major Defiances (D12)': 66, 'throwing things in class': 2, 'Play fighting (CM), Fighting (D12), Major Harassment (inl. sexual) (D12), Verbal/Physical Intimidation (D12)': 1, 'Non-compliance/off-task (CM), Recurring teacher managed behavior checked above (D12), Major Disruptions (D12)': 3}\n",
        "Offense: 130 has been commited:  130 times\n",
        "Top 5 offenses a kid is most likely going to commit:\n",
        " ['Major Defiances (D12), Major Disruptions (D12)', 'Verbal/Physical Intimidation (D12)', 'Minor Disruptions (CM), Non-compliance/off-task (CM), Recurring teacher managed behavior checked above (D12)', 'Major Defiances (D12)', 'Minor Disruptions (CM)']\n"
       ]
      },
      {
       "metadata": {},
       "output_type": "display_data",
       "png": "[encoded data removed]",
       "text": [
        "<matplotlib.figure.Figure at 0x10d24a5c0>"
       ]
      }
     ],
     "prompt_number": 9
    },
    {
     "cell_type": "code",
     "collapsed": false,
     "input": [],
     "language": "python",
     "metadata": {},
     "outputs": []
    }
   ],
   "metadata": {}
  }
 ]
}