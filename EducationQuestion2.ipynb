{
 "metadata": {
  "name": "",
  "signature": "sha256:5872010b05a45a1f9fcafbe08caebca0acf299076d20ad7fbc8fb55e7e21eb8d"
 },
 "nbformat": 3,
 "nbformat_minor": 0,
 "worksheets": [
  {
   "cells": [
    {
     "cell_type": "heading",
     "level": 1,
     "metadata": {},
     "source": [
      "Education Problem 1b - Predictors of Suspensions"
     ]
    },
    {
     "cell_type": "markdown",
     "metadata": {},
     "source": [
      "For this question, you will analyze __suspension and expulsion data__ from the California Department of Education and a unique collection of reports of disciplinary referrals as a local school that is using an alternative approach, the Monarch school.\n",
      "\n",
      "To do for this prompt: \n",
      "1. Explore the **statewide** data about suspensions and expulsions, looking for correlations and patterns.\n",
      "2. Study the records of disciplinary referrals from the **Monarch school**. \n",
      "\n",
      "----\n",
      "*From the statewide data*:\n",
      "\n",
      "// [California School Demographics](http://www.cde.ca.gov/ds/sd/sd/filesesd.asp) // [Data from Chicago](http://cps.edu/SchoolData/Pages/SchoolData.aspx) //\n",
      " + What are the strongest predictors of the population rate of suspensions at a school?\n",
      " + Holding key demographic factors constant, what are the strongest predictors rates of suspensions?\n",
      " + Identify schools that are outliers, for either high or low number of suspensions, accounting for prediction factors.\n",
      " + Find patterns by grade level\n",
      " \n",
      "----\n",
      "*From the Monarch School*:\n",
      "\n",
      "// [Monarch School Discipline Referrals](http://data.civicknowledge.com/stores/seDoCVvm7Y/tables/t03I02001.html) //\n",
      "+ Present **_descriptive statistics for referrals_**, considering the **student identity**, **time of day** and **behavior of single students** over the course of the day or week. \n",
      "+ Are there any distinguishing features of students that have a lot of referrals? \n",
      "  + Consider both aspects of the student, as well as **time**, **location**, **reporting staff** and other variables. \n",
      "+ What recommendations would you make to Monarch staff to further reduce the frequency of disciplinary referrals?\n",
      "+ School Staff: http://www.cde.ca.gov/ds/sd/df/filesstaffdemo.asp\n",
      "+ Notes:\n",
      " * When analyzing by grade level, use these grade level groupings: K-2, 3-5, 6-8 and 9-12.\n",
      " * When analyzing by time, consider time of day, day of week and month of year. \n",
      " * You should consider studying text fields and coding them in a way that would allow numerical analysis\n",
      "\n",
      "----\n",
      "Psychological background on effectiveness of school discipline (linked by Datathon organizers)\n",
      "\n",
      "* [Paper on Effective School Discipline](http://www.nasponline.org/publications/booksproducts/hchs3_samples/s4h18_discipline.pdf)\n",
      "* [Lincoln High School Case Study](http://acestoohigh.com/2012/04/23/lincoln-high-school-in-walla-walla-wa-tries-new-approach-to-school-discipline-expulsions-drop-85/)"
     ]
    },
    {
     "cell_type": "code",
     "collapsed": false,
     "input": [
      "import pandas as pd"
     ],
     "language": "python",
     "metadata": {},
     "outputs": [],
     "prompt_number": 4
    },
    {
     "cell_type": "code",
     "collapsed": false,
     "input": [
      "import numpy as np\n",
      "import statsmodels.api as sm #used for statistical modeling\n",
      "import matplotlib.pyplot as plt\n",
      "#to have plots show up automatically in notebook\n",
      "%matplotlib inline "
     ],
     "language": "python",
     "metadata": {},
     "outputs": [],
     "prompt_number": 5
    },
    {
     "cell_type": "markdown",
     "metadata": {},
     "source": [
      "Importing the Data Files"
     ]
    },
    {
     "cell_type": "code",
     "collapsed": false,
     "input": [
      "#reading in file\n",
      "diref_data = pd.read_csv('disciplinaryreferrals.csv')\n",
      "#renaming columns\n",
      "diref_data.rename(columns={'c03I02001_id': 'CaseNumber',\n",
      "                        'c03I02002_timestamp': 'TimeStamp',\n",
      "                        'c03I02003_student_id': 'StudentID',\n",
      "                        'c03I02004_grade': 'Grade',\n",
      "                        'c03I02005_date_and_time_of_misbehavior': 'Date/TimeofIncident',\n",
      "                        'c03I02006_location_of_misbehavior': 'Location',\n",
      "                        'c03I02007_documenting_staff_id': 'DocumentingStaffID',\n",
      "                        'c03I02008_documenting_staff': 'DocumentingStaff',\n",
      "                        'c03I02009_classroom_or_administrative_managed': 'ClassroomOrAdministrative',\n",
      "                        'c03I0200a_type_of_misbehavior': 'Type',\n",
      "                        'c03I0200b_narrative_description_of_misbehavior': 'Description',\n",
      "                        'c03I0200c_consequence': 'Consequence',\n",
      "                        'c03I0200d_reporting_staff_id': 'ReportingStaffID',\n",
      "                        'c03I0200e_reporting_staff': 'ReportingStaff',\n",
      "                        'c03I0200f_d12_planning_completed': 'D12Planning',\n",
      "                        'c03I0200g_narrative_of_consequence': 'NarrativeOfConsequence'\n",
      "                        }, inplace=True)\n",
      "\n",
      "# Deleting unneccesary information (case number:doesn't give new info,\n",
      "# teacher full names: have IDs,D12Planning:All say ABCD,\n",
      "# narrative of consequence: missing for most, Classroom or Administrative:Mostly Administrative)\n",
      "\n",
      "#Can comment out the bottom \"del\" if you would like to work with the values\n",
      "\n",
      "#del diref_data['CaseNumber']\n",
      "del diref_data['DocumentingStaff']\n",
      "del diref_data['ReportingStaff']\n",
      "del diref_data['ClassroomOrAdministrative']\n",
      "del diref_data['D12Planning']\n",
      "del diref_data['NarrativeOfConsequence']\n",
      "\n"
     ],
     "language": "python",
     "metadata": {},
     "outputs": [],
     "prompt_number": 6
    },
    {
     "cell_type": "markdown",
     "metadata": {},
     "source": [
      "Interested in seeing if there are teachers who give out more refferals than others...[Work in Progress]"
     ]
    },
    {
     "cell_type": "code",
     "collapsed": false,
     "input": [
      "highest_offense = 0 #to store the highest amount of offenses a teacher has had to deal with\n",
      "highest_offender = -1 #to store the teacher with most referrals \n",
      "\n",
      "\n",
      "#for loop to see how many times each teacher has given out a referral\n",
      "teacher_cases = {} #creating dictionary to store amount of times theyve been cited\n",
      "for teacher in diref_data['ReportingStaffID']:\n",
      "    if not teacher in teacher_cases:\n",
      "        teacher_cases[teacher] = 1\n",
      "    else:\n",
      "        teacher_cases[teacher] = teacher_cases[teacher]+1      \n",
      "\n",
      "#lets see which teacher gives out the most referrals\n",
      "for teacher in teacher_cases:\n",
      "    if teacher_cases[teacher]>highest_offense:\n",
      "        highest_offense = teacher_cases[teacher]\n",
      "        highest_offender = teacher\n",
      "print(\"Teacher\", highest_offender,\"has given the highest amount of referrals: \",highest_offense)\n",
      "            \n",
      "#plot a representative bar graph\n",
      "plt.bar(range(len(teacher_cases)), teacher_cases.values(), align='center')\n",
      "plt.xlabel('Teacher')\n",
      "plt.ylabel('Referral Cases')\n",
      "\n",
      "#The bar graph isn't really accurate in matching the teacher IDs because some IDs are missing\n",
      "plt.show()\n"
     ],
     "language": "python",
     "metadata": {},
     "outputs": [
      {
       "output_type": "stream",
       "stream": "stdout",
       "text": [
        "Teacher 127 has given the highest amount of referrals:  70\n"
       ]
      },
      {
       "metadata": {},
       "output_type": "display_data",
       "png": "[encoded data removed]",
       "text": [
        "<matplotlib.figure.Figure at 0x10c27ad68>"
       ]
      }
     ],
     "prompt_number": 7
    },
    {
     "cell_type": "markdown",
     "metadata": {},
     "source": [
      "Attempting to make a word cloud out of the types of misbehavior... currently not working..."
     ]
    },
    {
     "cell_type": "code",
     "collapsed": false,
     "input": [
      "from os import path\n",
      "from wordcloud import WordCloud\n",
      "\n",
      "# Read the whole text.\n",
      "text = open('TypesOfMisbehavior.txt').read()\n",
      "wordcloud = WordCloud().generate(text)\n",
      "# Open a plot of the generated image.\n",
      "plt.imshow(wordcloud)\n",
      "plt.axis(\"off\")\n",
      "plt.show()"
     ],
     "language": "python",
     "metadata": {},
     "outputs": [
      {
       "ename": "OSError",
       "evalue": "cannot open resource",
       "output_type": "pyerr",
       "traceback": [
        "\u001b[0;31m---------------------------------------------------------------------------\u001b[0m\n\u001b[0;31mOSError\u001b[0m                                   Traceback (most recent call last)",
        "\u001b[0;32m<ipython-input-8-75d4a98d773e>\u001b[0m in \u001b[0;36m<module>\u001b[0;34m()\u001b[0m\n\u001b[1;32m      4\u001b[0m \u001b[0;31m# Read the whole text.\u001b[0m\u001b[0;34m\u001b[0m\u001b[0;34m\u001b[0m\u001b[0m\n\u001b[1;32m      5\u001b[0m \u001b[0mtext\u001b[0m \u001b[0;34m=\u001b[0m \u001b[0mopen\u001b[0m\u001b[0;34m(\u001b[0m\u001b[0;34m'TypesOfMisbehavior.txt'\u001b[0m\u001b[0;34m)\u001b[0m\u001b[0;34m.\u001b[0m\u001b[0mread\u001b[0m\u001b[0;34m(\u001b[0m\u001b[0;34m)\u001b[0m\u001b[0;34m\u001b[0m\u001b[0m\n\u001b[0;32m----> 6\u001b[0;31m \u001b[0mwordcloud\u001b[0m \u001b[0;34m=\u001b[0m \u001b[0mWordCloud\u001b[0m\u001b[0;34m(\u001b[0m\u001b[0;34m)\u001b[0m\u001b[0;34m.\u001b[0m\u001b[0mgenerate\u001b[0m\u001b[0;34m(\u001b[0m\u001b[0mtext\u001b[0m\u001b[0;34m)\u001b[0m\u001b[0;34m\u001b[0m\u001b[0m\n\u001b[0m\u001b[1;32m      7\u001b[0m \u001b[0;31m# Open a plot of the generated image.\u001b[0m\u001b[0;34m\u001b[0m\u001b[0;34m\u001b[0m\u001b[0m\n\u001b[1;32m      8\u001b[0m \u001b[0mplt\u001b[0m\u001b[0;34m.\u001b[0m\u001b[0mimshow\u001b[0m\u001b[0;34m(\u001b[0m\u001b[0mwordcloud\u001b[0m\u001b[0;34m)\u001b[0m\u001b[0;34m\u001b[0m\u001b[0m\n",
        "\u001b[0;32m/Users/Izhikevich/anaconda/lib/python3.4/site-packages/wordcloud/wordcloud.py\u001b[0m in \u001b[0;36mgenerate\u001b[0;34m(self, text)\u001b[0m\n\u001b[1;32m    311\u001b[0m         \"\"\"\n\u001b[1;32m    312\u001b[0m         \u001b[0mself\u001b[0m\u001b[0;34m.\u001b[0m\u001b[0mprocess_text\u001b[0m\u001b[0;34m(\u001b[0m\u001b[0mtext\u001b[0m\u001b[0;34m)\u001b[0m\u001b[0;34m\u001b[0m\u001b[0m\n\u001b[0;32m--> 313\u001b[0;31m         \u001b[0mself\u001b[0m\u001b[0;34m.\u001b[0m\u001b[0mfit_words\u001b[0m\u001b[0;34m(\u001b[0m\u001b[0mself\u001b[0m\u001b[0;34m.\u001b[0m\u001b[0mwords_\u001b[0m\u001b[0;34m)\u001b[0m\u001b[0;34m\u001b[0m\u001b[0m\n\u001b[0m\u001b[1;32m    314\u001b[0m         \u001b[0;32mreturn\u001b[0m \u001b[0mself\u001b[0m\u001b[0;34m\u001b[0m\u001b[0m\n\u001b[1;32m    315\u001b[0m \u001b[0;34m\u001b[0m\u001b[0m\n",
        "\u001b[0;32m/Users/Izhikevich/anaconda/lib/python3.4/site-packages/wordcloud/wordcloud.py\u001b[0m in \u001b[0;36mfit_words\u001b[0;34m(self, words)\u001b[0m\n\u001b[1;32m    178\u001b[0m             \u001b[0;32mwhile\u001b[0m \u001b[0;32mTrue\u001b[0m\u001b[0;34m:\u001b[0m\u001b[0;34m\u001b[0m\u001b[0m\n\u001b[1;32m    179\u001b[0m                 \u001b[0;31m# try to find a position\u001b[0m\u001b[0;34m\u001b[0m\u001b[0;34m\u001b[0m\u001b[0m\n\u001b[0;32m--> 180\u001b[0;31m                 \u001b[0mfont\u001b[0m \u001b[0;34m=\u001b[0m \u001b[0mImageFont\u001b[0m\u001b[0;34m.\u001b[0m\u001b[0mtruetype\u001b[0m\u001b[0;34m(\u001b[0m\u001b[0mself\u001b[0m\u001b[0;34m.\u001b[0m\u001b[0mfont_path\u001b[0m\u001b[0;34m,\u001b[0m \u001b[0mfont_size\u001b[0m\u001b[0;34m)\u001b[0m\u001b[0;34m\u001b[0m\u001b[0m\n\u001b[0m\u001b[1;32m    181\u001b[0m                 \u001b[0;31m# transpose font optionally\u001b[0m\u001b[0;34m\u001b[0m\u001b[0;34m\u001b[0m\u001b[0m\n\u001b[1;32m    182\u001b[0m                 \u001b[0;32mif\u001b[0m \u001b[0mrandom_state\u001b[0m\u001b[0;34m.\u001b[0m\u001b[0mrandom\u001b[0m\u001b[0;34m(\u001b[0m\u001b[0;34m)\u001b[0m \u001b[0;34m<\u001b[0m \u001b[0mself\u001b[0m\u001b[0;34m.\u001b[0m\u001b[0mprefer_horizontal\u001b[0m\u001b[0;34m:\u001b[0m\u001b[0;34m\u001b[0m\u001b[0m\n",
        "\u001b[0;32m/Users/Izhikevich/anaconda/lib/python3.4/site-packages/PIL/ImageFont.py\u001b[0m in \u001b[0;36mtruetype\u001b[0;34m(font, size, index, encoding, filename)\u001b[0m\n\u001b[1;32m    226\u001b[0m \u001b[0;34m\u001b[0m\u001b[0m\n\u001b[1;32m    227\u001b[0m     \u001b[0;32mtry\u001b[0m\u001b[0;34m:\u001b[0m\u001b[0;34m\u001b[0m\u001b[0m\n\u001b[0;32m--> 228\u001b[0;31m         \u001b[0;32mreturn\u001b[0m \u001b[0mFreeTypeFont\u001b[0m\u001b[0;34m(\u001b[0m\u001b[0mfont\u001b[0m\u001b[0;34m,\u001b[0m \u001b[0msize\u001b[0m\u001b[0;34m,\u001b[0m \u001b[0mindex\u001b[0m\u001b[0;34m,\u001b[0m \u001b[0mencoding\u001b[0m\u001b[0;34m)\u001b[0m\u001b[0;34m\u001b[0m\u001b[0m\n\u001b[0m\u001b[1;32m    229\u001b[0m     \u001b[0;32mexcept\u001b[0m \u001b[0mIOError\u001b[0m\u001b[0;34m:\u001b[0m\u001b[0;34m\u001b[0m\u001b[0m\n\u001b[1;32m    230\u001b[0m         \u001b[0;32mif\u001b[0m \u001b[0msys\u001b[0m\u001b[0;34m.\u001b[0m\u001b[0mplatform\u001b[0m \u001b[0;34m==\u001b[0m \u001b[0;34m\"win32\"\u001b[0m\u001b[0;34m:\u001b[0m\u001b[0;34m\u001b[0m\u001b[0m\n",
        "\u001b[0;32m/Users/Izhikevich/anaconda/lib/python3.4/site-packages/PIL/ImageFont.py\u001b[0m in \u001b[0;36m__init__\u001b[0;34m(self, font, size, index, encoding, file)\u001b[0m\n\u001b[1;32m    129\u001b[0m \u001b[0;34m\u001b[0m\u001b[0m\n\u001b[1;32m    130\u001b[0m         \u001b[0;32mif\u001b[0m \u001b[0misPath\u001b[0m\u001b[0;34m(\u001b[0m\u001b[0mfont\u001b[0m\u001b[0;34m)\u001b[0m\u001b[0;34m:\u001b[0m\u001b[0;34m\u001b[0m\u001b[0m\n\u001b[0;32m--> 131\u001b[0;31m             \u001b[0mself\u001b[0m\u001b[0;34m.\u001b[0m\u001b[0mfont\u001b[0m \u001b[0;34m=\u001b[0m \u001b[0mcore\u001b[0m\u001b[0;34m.\u001b[0m\u001b[0mgetfont\u001b[0m\u001b[0;34m(\u001b[0m\u001b[0mfont\u001b[0m\u001b[0;34m,\u001b[0m \u001b[0msize\u001b[0m\u001b[0;34m,\u001b[0m \u001b[0mindex\u001b[0m\u001b[0;34m,\u001b[0m \u001b[0mencoding\u001b[0m\u001b[0;34m)\u001b[0m\u001b[0;34m\u001b[0m\u001b[0m\n\u001b[0m\u001b[1;32m    132\u001b[0m         \u001b[0;32melse\u001b[0m\u001b[0;34m:\u001b[0m\u001b[0;34m\u001b[0m\u001b[0m\n\u001b[1;32m    133\u001b[0m             \u001b[0mself\u001b[0m\u001b[0;34m.\u001b[0m\u001b[0mfont_bytes\u001b[0m \u001b[0;34m=\u001b[0m \u001b[0mfont\u001b[0m\u001b[0;34m.\u001b[0m\u001b[0mread\u001b[0m\u001b[0;34m(\u001b[0m\u001b[0;34m)\u001b[0m\u001b[0;34m\u001b[0m\u001b[0m\n",
        "\u001b[0;31mOSError\u001b[0m: cannot open resource"
       ]
      }
     ],
     "prompt_number": 8
    },
    {
     "cell_type": "markdown",
     "metadata": {},
     "source": [
      "Plan: See which setting students are usually given refferals in: during gym class? or during math class?"
     ]
    },
    {
     "cell_type": "code",
     "collapsed": false,
     "input": [
      "most_common_location= 'null' #to store the most common locaiton a referral was given in\n",
      "location_amount = -1 #to the amount of times that referral was given in that location\n",
      "\n",
      "\n",
      "#for loop to see how many times each location had a referral given out in\n",
      "location_cases = {} #creating dictionary to store amount of different locations\n",
      "for location in diref_data['Location']:\n",
      "    if not location in location_cases:\n",
      "        location_cases[location] = 1\n",
      "    else:\n",
      "        location_cases[location] = location_cases[location]+1      \n",
      "\n",
      "#lets see which locaiton provokes the most referrals\n",
      "for location in location_cases:\n",
      "    if location_cases[location]>location_amount:\n",
      "        location_amount = location_cases[location]\n",
      "        most_common_location = location\n",
      "    \n",
      "    \n",
      "print(\"Location:\", most_common_location,\"has provoked highest amount of referrals: \",location_amount)\n",
      "print('Top 5 places a kid is most likely going to get a referral:\\n',\n",
      "      sorted(location_cases, key=location_cases.__getitem__, reverse = True)[0:5])    \n",
      "\n",
      "\n",
      "#plot a representative bar graph\n",
      "plt.bar(range(len(location_cases)), location_cases.values(), align='center')\n",
      "plt.xlabel('Location')\n",
      "plt.ylabel('Referral Cases')\n",
      "\n",
      "#The bar graph isn't really accurate in matching the teacher IDs because some IDs are missing\n",
      "plt.show()\n",
      "\n"
     ],
     "language": "python",
     "metadata": {},
     "outputs": [
      {
       "output_type": "stream",
       "stream": "stdout",
       "text": [
        "Location: Classroom has provoked highest amount of referrals:  290\n",
        "Top 5 places a kid is most likely going to get a referral:\n",
        " ['Classroom', 'English classroom', 'Science Classroom', 'PE', 'Yoga']\n"
       ]
      },
      {
       "metadata": {},
       "output_type": "display_data",
       "png": "[encoded data removed]",
       "text": [
        "<matplotlib.figure.Figure at 0x10d90e908>"
       ]
      }
     ],
     "prompt_number": 22
    },
    {
     "cell_type": "markdown",
     "metadata": {},
     "source": [
      "Looks like the classroom is the most likely place at Monarch..."
     ]
    },
    {
     "cell_type": "markdown",
     "metadata": {},
     "source": [
      "Lets look at the type of offense now..."
     ]
    }
   ],
   "metadata": {}
  }
 ]
}