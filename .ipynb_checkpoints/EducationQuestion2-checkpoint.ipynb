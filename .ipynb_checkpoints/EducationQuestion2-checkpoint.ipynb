{
 "metadata": {
  "name": "",
  "signature": "sha256:7ae6e47a712237b6ee4bcab3bffee64b1218cf056b458bd3234cd799ce519ec3"
 },
 "nbformat": 3,
 "nbformat_minor": 0,
 "worksheets": [
  {
   "cells": [
    {
     "cell_type": "heading",
     "level": 1,
     "metadata": {},
     "source": [
      "Education"
     ]
    }
   ],
   "metadata": {}
  }
 ]
}