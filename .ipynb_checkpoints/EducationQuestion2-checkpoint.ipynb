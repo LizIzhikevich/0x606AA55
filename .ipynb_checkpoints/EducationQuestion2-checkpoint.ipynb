{
 "metadata": {
  "name": "",
  "signature": "sha256:8369e55b72018c8cb9937ea8862fcc68731443006affbee90b694994bcb15def"
 },
 "nbformat": 3,
 "nbformat_minor": 0,
 "worksheets": [
  {
   "cells": [
    {
     "cell_type": "heading",
     "level": 1,
     "metadata": {},
     "source": [
      "Education Problem 1b - Predictors of Suspensions"
     ]
    },
    {
     "cell_type": "markdown",
     "metadata": {},
     "source": [
      "For this question, you will analyze __suspension and expulsion data__ from the California Department of Education and a unique collection of reports of disciplinary referrals as a local school that is using an alternative approach, the Monarch school.\n",
      "\n",
      "To do for this prompt: \n",
      "1. Explore the **statewide** data about suspensions and expulsions, looking for correlations and patterns.\n",
      "2. Study the records of disciplinary referrals from the **Monarch school**. \n",
      "\n",
      "----\n",
      "*From the statewide data*:\n",
      "\n",
      "// [California School Demographics](http://www.cde.ca.gov/ds/sd/sd/filesesd.asp) // [Data from Chicago](http://cps.edu/SchoolData/Pages/SchoolData.aspx) //\n",
      " + What are the strongest predictors of the population rate of suspensions at a school?\n",
      " + Holding key demographic factors constant, what are the strongest predictors rates of suspensions?\n",
      " + Identify schools that are outliers, for either high or low number of suspensions, accounting for prediction factors.\n",
      " + Find patterns by grade level\n",
      " \n",
      "----\n",
      "*From the Monarch School*:\n",
      "\n",
      "// [Monarch School Discipline Referrals](http://data.civicknowledge.com/stores/seDoCVvm7Y/tables/t03I02001.html) //\n",
      "+ Present **_descriptive statistics for referrals_**, considering the **student identity**, **time of day** and **behavior of single students** over the course of the day or week. \n",
      "+ Are there any distinguishing features of students that have a lot of referrals? \n",
      "  + Consider both aspects of the student, as well as **time**, **location**, **reporting staff** and other variables. \n",
      "+ What recommendations would you make to Monarch staff to further reduce the frequency of disciplinary referrals?\n",
      "+ School Staff: http://www.cde.ca.gov/ds/sd/df/filesstaffdemo.asp\n",
      "+ Notes:\n",
      " * When analyzing by grade level, use these grade level groupings: K-2, 3-5, 6-8 and 9-12.\n",
      " * When analyzing by time, consider time of day, day of week and month of year. \n",
      " * You should consider studying text fields and coding them in a way that would allow numerical analysis\n",
      "\n",
      "----\n",
      "Psychological background on effectiveness of school discipline (linked by Datathon organizers)\n",
      "\n",
      "* [Paper on Effective School Discipline](http://www.nasponline.org/publications/booksproducts/hchs3_samples/s4h18_discipline.pdf)\n",
      "* [Lincoln High School Case Study](http://acestoohigh.com/2012/04/23/lincoln-high-school-in-walla-walla-wa-tries-new-approach-to-school-discipline-expulsions-drop-85/)"
     ]
    },
    {
     "cell_type": "code",
     "collapsed": false,
     "input": [
      "import pandas as pd"
     ],
     "language": "python",
     "metadata": {},
     "outputs": [],
     "prompt_number": 2
    },
    {
     "cell_type": "code",
     "collapsed": false,
     "input": [
      "import numpy as np\n",
      "import statsmodels.api as sm #used for statistical modeling\n",
      "import matplotlib.pyplot as plt\n",
      "#to have plots show up automatically in notebook\n",
      "%matplotlib inline \n",
      "\n",
      "#import regex\n",
      "from nltk.book import *\n",
      "\n",
      "from collections import Counter"
     ],
     "language": "python",
     "metadata": {},
     "outputs": [
      {
       "output_type": "stream",
       "stream": "stdout",
       "text": [
        "*** Introductory Examples for the NLTK Book ***\n",
        "Loading text1, ..., text9 and sent1, ..., sent9\n",
        "Type the name of the text or sentence to view it.\n",
        "Type: 'texts()' or 'sents()' to list the materials.\n",
        "text1:"
       ]
      },
      {
       "output_type": "stream",
       "stream": "stdout",
       "text": [
        " Moby Dick by Herman Melville 1851\n",
        "text2:"
       ]
      },
      {
       "output_type": "stream",
       "stream": "stdout",
       "text": [
        " Sense and Sensibility by Jane Austen 1811\n",
        "text3:"
       ]
      },
      {
       "output_type": "stream",
       "stream": "stdout",
       "text": [
        " The Book of Genesis\n",
        "text4:"
       ]
      },
      {
       "output_type": "stream",
       "stream": "stdout",
       "text": [
        " Inaugural Address Corpus\n",
        "text5:"
       ]
      },
      {
       "output_type": "stream",
       "stream": "stdout",
       "text": [
        " Chat Corpus\n",
        "text6: Monty Python and the Holy Grail\n",
        "text7:"
       ]
      },
      {
       "output_type": "stream",
       "stream": "stdout",
       "text": [
        " Wall Street Journal\n",
        "text8: Personals Corpus\n",
        "text9:"
       ]
      },
      {
       "output_type": "stream",
       "stream": "stdout",
       "text": [
        " The Man Who Was Thursday by G . K . Chesterton 1908\n"
       ]
      }
     ],
     "prompt_number": 10
    },
    {
     "cell_type": "markdown",
     "metadata": {},
     "source": [
      "Importing the Data Files"
     ]
    },
    {
     "cell_type": "code",
     "collapsed": false,
     "input": [
      "#reading in file\n",
      "diref_data = pd.read_csv('disciplinaryreferrals.csv')\n",
      "#renaming columns\n",
      "diref_data.rename(columns={'c03I02001_id': 'CaseNumber',\n",
      "                        'c03I02002_timestamp': 'TimeStamp',\n",
      "                        'c03I02003_student_id': 'StudentID',\n",
      "                        'c03I02004_grade': 'Grade',\n",
      "                        'c03I02005_date_and_time_of_misbehavior': 'Date/TimeofIncident',\n",
      "                        'c03I02006_location_of_misbehavior': 'Location',\n",
      "                        'c03I02007_documenting_staff_id': 'DocumentingStaffID',\n",
      "                        'c03I02008_documenting_staff': 'DocumentingStaff',\n",
      "                        'c03I02009_classroom_or_administrative_managed': 'ClassroomOrAdministrative',\n",
      "                        'c03I0200a_type_of_misbehavior': 'Type',\n",
      "                        'c03I0200b_narrative_description_of_misbehavior': 'Description',\n",
      "                        'c03I0200c_consequence': 'Consequence',\n",
      "                        'c03I0200d_reporting_staff_id': 'ReportingStaffID',\n",
      "                        'c03I0200e_reporting_staff': 'ReportingStaff',\n",
      "                        'c03I0200f_d12_planning_completed': 'D12Planning',\n",
      "                        'c03I0200g_narrative_of_consequence': 'NarrativeOfConsequence'\n",
      "                        }, inplace=True)\n",
      "\n",
      "# Deleting unneccesary information (case number:doesn't give new info,\n",
      "# teacher full names: have IDs,D12Planning:All say ABCD,\n",
      "# narrative of consequence: missing for most, Classroom or Administrative:Mostly Administrative)\n",
      "\n",
      "#Can comment out the bottom \"del\" if you would like to work with the values\n",
      "\n",
      "#del diref_data['CaseNumber']\n",
      "del diref_data['DocumentingStaff']\n",
      "del diref_data['ReportingStaff']\n",
      "del diref_data['ClassroomOrAdministrative']\n",
      "del diref_data['D12Planning']\n",
      "del diref_data['NarrativeOfConsequence']\n",
      "\n"
     ],
     "language": "python",
     "metadata": {},
     "outputs": [],
     "prompt_number": 4
    },
    {
     "cell_type": "markdown",
     "metadata": {},
     "source": [
      "Interested in seeing if there are teachers who give out more refferals than others..."
     ]
    },
    {
     "cell_type": "code",
     "collapsed": false,
     "input": [
      "highest_offense = 0 #to store the highest amount of offenses a teacher has had to deal with\n",
      "highest_offender = -1 #to store the teacher with most referrals \n",
      "\n",
      "\n",
      "#for loop to see how many times each teacher has given out a referral\n",
      "teacher_cases = {} #creating dictionary to store amount of times theyve been cited\n",
      "for teacher in diref_data['ReportingStaffID']:\n",
      "    if not teacher in teacher_cases:\n",
      "        teacher_cases[teacher] = 1\n",
      "    else:\n",
      "        teacher_cases[teacher] = teacher_cases[teacher]+1      \n",
      "\n",
      "#lets see which teacher gives out the most referrals\n",
      "for teacher in teacher_cases:\n",
      "    if teacher_cases[teacher]>highest_offense:\n",
      "        highest_offense = teacher_cases[teacher]\n",
      "        highest_offender = teacher\n",
      "print(\"Teacher\", highest_offender,\"has given the highest amount of referrals: \",highest_offense)\n",
      "            \n",
      "#plot a representative bar graph\n",
      "plt.bar(range(len(teacher_cases)), teacher_cases.values(), align='center')\n",
      "plt.xlabel('Teacher')\n",
      "plt.ylabel('Referral Cases')\n",
      "\n",
      "#The bar graph isn't really accurate in matching the teacher IDs because some IDs are missing\n",
      "plt.show()\n"
     ],
     "language": "python",
     "metadata": {},
     "outputs": [
      {
       "output_type": "stream",
       "stream": "stdout",
       "text": [
        "Teacher 127 has given the highest amount of referrals:  70\n"
       ]
      },
      {
       "metadata": {},
       "output_type": "display_data",
       "png": "[encoded data removed]",
       "text": [
        "<matplotlib.figure.Figure at 0x10e57b2e8>"
       ]
      }
     ],
     "prompt_number": 5
    },
    {
     "cell_type": "raw",
     "metadata": {},
     "source": [
      "#lets see how this relates to the grade distribution of referrals"
     ]
    },
    {
     "cell_type": "code",
     "collapsed": false,
     "input": [
      "highest_referral_number = 0 # top number of referrals per grade\n",
      "highest_offending_grade= -1 # to store the grade with the highest amount of referrals\n",
      "\n",
      "\n",
      "#for loop to see how many times each teacher grade has recieven a referral\n",
      "grade_cases = {} #creating dictionary to store amount of times theyve been cited\n",
      "for grade in diref_data['Grade']:\n",
      "    if not grade in grade_cases:\n",
      "        grade_cases[grade] = 1\n",
      "    else:\n",
      "        grade_cases[grade] = grade_cases[grade]+1      \n",
      "\n",
      "print(grade_cases)\n",
      "#lets see which teacher gives out the most referrals\n",
      "for grade in grade_cases:\n",
      "    if grade_cases[grade]>highest_referral_number:\n",
      "        highest_referral_number = grade_cases[grade]\n",
      "        highest_offending_grade = grade\n",
      "print(\"Grade\", highest_offending_grade,\"has recieved the highest amount of referrals: \",\n",
      "      highest_referral_number)\n",
      "            \n",
      "#plot a representative bar graph\n",
      "plt.bar(range(len(grade_cases)), grade_cases.values(), align='center')\n",
      "plt.xlabel('Grade')\n",
      "plt.ylabel('Referral Cases')\n",
      "\n",
      "#The bar graph isn't really accurate in matching the teacher IDs because some IDs are missing\n",
      "plt.show()"
     ],
     "language": "python",
     "metadata": {},
     "outputs": [
      {
       "output_type": "stream",
       "stream": "stdout",
       "text": [
        "{nan: 1, 1.0: 60, 2.0: 135, 3.0: 119, 4.0: 134, 5.0: 93, 6.0: 74, 7.0: 72, 8.0: 77, 9.0: 62, 10.0: 90, 11.0: 48, 12.0: 16, nan: 1, nan: 1}\n",
        "Grade 2.0 has recieved the highest amount of referrals:  135\n"
       ]
      },
      {
       "metadata": {},
       "output_type": "display_data",
       "png": "[encoded data removed]",
       "text": [
        "<matplotlib.figure.Figure at 0x10e19ac18>"
       ]
      }
     ],
     "prompt_number": 6
    },
    {
     "cell_type": "markdown",
     "metadata": {},
     "source": [
      "Now lets see the highest offending student"
     ]
    },
    {
     "cell_type": "code",
     "collapsed": false,
     "input": [
      "highest_offense = 0 #to store the highest amount of offenses a student has had to deal with\n",
      "highest_offender = -1 #to store the student with most referrals \n",
      "\n",
      "\n",
      "#for loop to see how many times each student has recieved a referral\n",
      "student_cases = {} #creating dictionary to store amount of times theyve been cited\n",
      "for student in diref_data['StudentID']:\n",
      "    if not student in student_cases:\n",
      "        student_cases[student] = 1\n",
      "    else:\n",
      "        student_cases[student] = student_cases[student]+1      \n",
      "            \n",
      "#plot a representative bar graph\n",
      "plt.bar(range(len(student_cases)), student_cases.values(), align='center')\n",
      "plt.xlabel('Student')\n",
      "plt.ylabel('Referral Cases')\n",
      "\n",
      "#The bar graph isn't really accurate in matching the teacher IDs because some IDs are missing\n",
      "plt.show()\n",
      "\n"
     ],
     "language": "python",
     "metadata": {},
     "outputs": [
      {
       "metadata": {},
       "output_type": "display_data",
       "png": "[encoded data removed]",
       "text": [
        "<matplotlib.figure.Figure at 0x10de55f28>"
       ]
      }
     ],
     "prompt_number": 7
    },
    {
     "cell_type": "raw",
     "metadata": {},
     "source": [
      "Correlate Mrs.Tyler's (TeacherID 127) students with other teachers...aka: see if those students only recieve referrals by her, or if they recieve referrals by others as well "
     ]
    },
    {
     "cell_type": "code",
     "collapsed": false,
     "input": [
      "#Now we know from the previous data that Teacher 127 (aka Mrs.Tyler) gives out the most referrals...\n",
      "#So lets see now what students she has given referrals to\n",
      "\n",
      "highest_offense = 0 #to store the highest amount of offenses a student has recieved \n",
      "highest_offender = -1 #to store the student with the most referrals handed out by Tyler\n",
      "highest_student_ID = 0 #to store highest student ID for plotting purposes\n",
      "\n",
      "#for loop to see how many times each student has recieved a referral from Tyler\n",
      "student_cases = {} #creating dictionary to store amount of times theyve been cited\n",
      "for (student,teacher) in zip(diref_data['StudentID'],diref_data['ReportingStaffID']):\n",
      "    if(teacher == 127):\n",
      "        if not student in student_cases:\n",
      "            student_cases[student] = 1\n",
      "        else:\n",
      "            student_cases[student] = student_cases[student]+1  \n",
      "\n",
      "#lets see what the highest studentID is for plotting purposes\n",
      "for student in student_cases:\n",
      "    if student>highest_student_ID:\n",
      "        highest_student_ID = student\n",
      "\n",
      "            \n",
      "#for loop to see how many times each student has recieved a referral NOT from Tyler\n",
      "referral_cases = {} #creating dictionary to store amount of times theyve been cited by others\n",
      "for (all_students,teacher) in zip(diref_data['StudentID'],diref_data['ReportingStaffID']):\n",
      "    if(all_students in student_cases): #checking if that student is in Tyler student cases\n",
      "        if(teacher != 127):#counting only teachers other than Tyler\n",
      "            if not all_students in referral_cases:\n",
      "                referral_cases[all_students] = 1\n",
      "            else:\n",
      "                referral_cases[all_students] = referral_cases[all_students]+1    \n",
      "                                \n",
      "#filling in missing student IDs with 0 to keep things uniform            \n",
      "for i in range (0,highest_student_ID):\n",
      "    if i not in student_cases:\n",
      "        student_cases[i] = 0\n",
      "\n",
      "\n",
      "#filling in missing student IDs with 0 to keep things uniform                \n",
      "for i in range (0,highest_student_ID+1):\n",
      "    if i not in referral_cases:\n",
      "        referral_cases[i] = 0\n",
      "\n",
      "percentage_keeper={}\n",
      "for student,referral in zip(student_cases,referral_cases):\n",
      "    if(student_cases[student] != 0): #if student was given \n",
      "        percentage_keeper[student] =(student_cases[student]/\n",
      "                                     (student_cases[student]+ referral_cases[referral]))*100\n",
      "\n",
      "frequency = Counter()\n",
      "for percentage in percentage_keeper:\n",
      "    frequency[percentage_keeper[percentage]]+=1\n",
      "\n",
      "fdist = FreqDist(frequency)\n",
      "fdist.plot()\n",
      "print(frequency.most_common(4))\n"
     ],
     "language": "python",
     "metadata": {},
     "outputs": [
      {
       "metadata": {},
       "output_type": "display_data",
       "png": "[encoded data removed]",
       "text": [
        "<matplotlib.figure.Figure at 0x111093d68>"
       ]
      },
      {
       "output_type": "stream",
       "stream": "stdout",
       "text": [
        "[(100.0, 14), (33.33333333333333, 5), (50.0, 5), (25.0, 2)]\n"
       ]
      }
     ],
     "prompt_number": 11
    },
    {
     "cell_type": "raw",
     "metadata": {},
     "source": [
      "Now lets visually represnt the information above"
     ]
    },
    {
     "cell_type": "code",
     "collapsed": false,
     "input": [
      "#plotting manipulation\n",
      "key_dictionary = {}\n",
      "for student,i in zip(student_cases,range(0,highest_student_ID+1)):\n",
      "    key_dictionary[i] = student\n",
      "        \n",
      "#plot a representative bar graph\n",
      "plt.bar(key_dictionary, student_cases.values(), align='center')\n",
      "plt.xlabel('Student')\n",
      "plt.ylabel('Referral Cases from Tyler')\n",
      "#Showing how many referrals shes given out to different students \n",
      "plt.show()\n",
      "\n",
      "#plotting manipulation\n",
      "key_dictionary = {}\n",
      "for referral,i in zip(referral_cases,range(0,highest_student_ID+1)):\n",
      "    key_dictionary[i] = referral\n",
      "        \n",
      "\n",
      "#plot a representative bar graph\n",
      "plt.bar(key_dictionary, referral_cases.values(), align='center')\n",
      "plt.xlabel('Student')\n",
      "plt.ylabel('Referral Cases NOT from Tyler')\n",
      "\n",
      "#Showing how many referrals shes given out to different students \n",
      "plt.show()"
     ],
     "language": "python",
     "metadata": {},
     "outputs": []
    },
    {
     "cell_type": "code",
     "collapsed": false,
     "input": [
      "#filling in missing student IDs with 0 for plotting purposes              \n",
      "for i in range (0,highest_student_ID):\n",
      "    if i not in student_cases:\n",
      "        student_cases[i] = 0\n",
      "\n",
      "key_dictionary = {}\n",
      "for student,i in zip(student_cases,range(0,highest_student_ID+1)):\n",
      "    key_dictionary[i] = student\n",
      "        \n",
      "#plot a representative bar graph\n",
      "plt.bar(key_dictionary, student_cases.values(), align='center')\n",
      "plt.xlabel('Student')\n",
      "plt.ylabel('Referral Cases from Tyler')\n",
      "#Showing how many referrals shes given out to different students \n",
      "plt.show()\n",
      "\n",
      "\n",
      "#filling in missing student IDs with 0                \n",
      "for i in range (0,highest_student_ID+1):\n",
      "    if i not in referral_cases:\n",
      "        referral_cases[i] = 0\n",
      "\n",
      "key_dictionary = {}\n",
      "for referral,i in zip(referral_cases,range(0,highest_student_ID+1)):\n",
      "    key_dictionary[i] = referral\n",
      "        \n",
      "\n",
      "#plot a representative bar graph\n",
      "plt.bar(key_dictionary, referral_cases.values(), align='center')\n",
      "plt.xlabel('Student')\n",
      "plt.ylabel('Referral Cases NOT from Tyler')\n",
      "\n",
      "#Showing how many referrals shes given out to different students \n",
      "plt.show()\n"
     ],
     "language": "python",
     "metadata": {},
     "outputs": []
    },
    {
     "cell_type": "markdown",
     "metadata": {},
     "source": [
      "Plan: See which setting students are usually given refferals in: during gym class? or during math class?"
     ]
    },
    {
     "cell_type": "code",
     "collapsed": false,
     "input": [
      "most_common_location= 'null' #to store the most common locaiton a referral was given in\n",
      "location_amount = -1 #to the amount of times that referral was given in that location\n",
      "\n",
      "\n",
      "#for loop to see how many times each location had a referral given out in\n",
      "location_cases = {} #creating dictionary to store amount of different locations\n",
      "for location in diref_data['Location']:\n",
      "    if not location in location_cases:\n",
      "        location_cases[location] = 1\n",
      "    else:\n",
      "        location_cases[location] = location_cases[location]+1      \n",
      "\n",
      "#lets see which locaiton provokes the most referrals\n",
      "for location in location_cases:\n",
      "    if location_cases[location]>location_amount:\n",
      "        location_amount = location_cases[location]\n",
      "        most_common_location = location\n",
      "    \n",
      "    \n",
      "print(\"Location:\", most_common_location,\"has provoked highest amount of referrals: \",location_amount)\n",
      "print('Top 5 places a kid is most likely going to get a referral:\\n',\n",
      "      sorted(location_cases, key=location_cases.__getitem__, reverse = True)[0:5])    \n",
      "\n",
      "\n",
      "#plot a representative bar graph\n",
      "plt.bar(range(len(location_cases)), location_cases.values(), align='center')\n",
      "plt.xlabel('Location')\n",
      "plt.ylabel('Referral Cases')\n",
      "\n",
      "#The bar graph\n",
      "plt.show()\n",
      "\n"
     ],
     "language": "python",
     "metadata": {},
     "outputs": []
    },
    {
     "cell_type": "markdown",
     "metadata": {},
     "source": [
      "Looks like the classroom is the most likely place at Monarch..."
     ]
    },
    {
     "cell_type": "markdown",
     "metadata": {},
     "source": [
      "Lets look at the type of offense now..."
     ]
    },
    {
     "cell_type": "code",
     "collapsed": false,
     "input": [
      "most_common_offense= 'null' #to store the most common offense\n",
      "offense_amount = -1 #to the amount of times that offense was commited\n",
      "\n",
      "\n",
      "#for loop to see how many times each unique offense was commited \n",
      "offense_cases = {} #creating dictionary to store amount of offenses\n",
      "for offense in diref_data['Type']:\n",
      "    if not offense in offense_cases:\n",
      "        offense_cases[offense] = 1\n",
      "    else:\n",
      "        offense_cases[offense] = offense_cases[offense]+1      \n",
      "\n",
      "#lets now classify the types of disruptions more thoroughly- since some students have multiple\n",
      "#types of disruptions and are thus classified on their own\n",
      "#for offense in offense_cases:\n",
      "    \n",
      "\n",
      "#lets see which locaiton provokes the most referrals\n",
      "for offense in offense_cases:\n",
      "    if offense_cases[offense]>offense_amount:\n",
      "        offense_amount = offense_cases[offense]\n",
      "        most_common_offense = offense_amount\n",
      "        \n",
      "print(\"Top Offense has been commited: \",offense_amount, \"times\")\n",
      "print('Top 5 offenses a kid is most likely going to commit:\\n',\n",
      "      sorted(offense_cases, key=offense_cases.__getitem__, reverse = True)[0:5])    \n",
      "\n",
      "\n",
      "#plot a representative bar graph\n",
      "plt.bar(range(len(offense_cases)), offense_cases.values(), align='center')\n",
      "plt.xlabel('Offense')\n",
      "plt.ylabel('Offense Cases')\n",
      "\n",
      "#The bar graph \n",
      "plt.show()\n",
      "\n"
     ],
     "language": "python",
     "metadata": {},
     "outputs": []
    },
    {
     "cell_type": "code",
     "collapsed": false,
     "input": [],
     "language": "python",
     "metadata": {},
     "outputs": []
    }
   ],
   "metadata": {}
  }
 ]
}