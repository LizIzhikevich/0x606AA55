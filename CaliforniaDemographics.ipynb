{
 "metadata": {
  "name": "",
  "signature": "sha256:6b2788c8bc2783174ab1fe0ab974edb2774a700efc122027afe29b05554dae40"
 },
 "nbformat": 3,
 "nbformat_minor": 0,
 "worksheets": [
  {
   "cells": [
    {
     "cell_type": "heading",
     "level": 1,
     "metadata": {},
     "source": [
      "California Demographics Descriptive Statistics"
     ]
    },
    {
     "cell_type": "code",
     "collapsed": false,
     "input": [
      "import pandas as pd\n",
      "import matplotlib.pyplot as plt\n",
      "%matplotlib inline \n",
      "from collections import Counter"
     ],
     "language": "python",
     "metadata": {},
     "outputs": [],
     "prompt_number": 11
    },
    {
     "cell_type": "code",
     "collapsed": false,
     "input": [
      "def read_in_file(filename):\n",
      "    data = pd.read_csv(filename)\n",
      "    return data"
     ],
     "language": "python",
     "metadata": {},
     "outputs": [],
     "prompt_number": 2
    },
    {
     "cell_type": "code",
     "collapsed": false,
     "input": [
      "ethnic_discip = read_in_file('total_ethnic_discip.csv')\n",
      "ethnic_discip.columns = ['Ethnicity','Drugs','Year']"
     ],
     "language": "python",
     "metadata": {},
     "outputs": [],
     "prompt_number": 6
    },
    {
     "cell_type": "code",
     "collapsed": false,
     "input": [
      "AmIndian = ethnic_discip[ethnic_discip.Ethnicity==1] #American Indian or Alaskan Native\n",
      "Asian = ethnic_discip[ethnic_discip.Ethnicity==2]\n",
      "PacIsland = ethnic_discip[ethnic_discip.Ethnicity ==3]\n",
      "Filipino = ethnic_discip[ethnic_discip.Ethnicity==4]\n",
      "Hispanic = ethnic_discip[ethnic_discip.Ethnicity==5]\n",
      "AfricanAm = ethnic_discip[ethnic_discip.Ethnicity==6]\n",
      "White = ethnic_discip[ethnic_discip.Ethnicity==7]"
     ],
     "language": "python",
     "metadata": {},
     "outputs": [],
     "prompt_number": 9
    },
    {
     "cell_type": "code",
     "collapsed": false,
     "input": [
      "\n"
     ],
     "language": "python",
     "metadata": {},
     "outputs": [],
     "prompt_number": 17
    },
    {
     "cell_type": "code",
     "collapsed": false,
     "input": [],
     "language": "python",
     "metadata": {},
     "outputs": []
    }
   ],
   "metadata": {}
  }
 ]
}