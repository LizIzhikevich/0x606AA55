{
 "metadata": {
  "name": "",
  "signature": "sha256:dc1e140f2482d8b98a758f1d606552214e24c0bffcdaebf393407901cd3961d7"
 },
 "nbformat": 3,
 "nbformat_minor": 0,
 "worksheets": [
  {
   "cells": [
    {
     "cell_type": "heading",
     "level": 1,
     "metadata": {},
     "source": [
      "California Demographics Descriptive Statistics"
     ]
    },
    {
     "cell_type": "code",
     "collapsed": false,
     "input": [
      "import pandas as pd\n",
      "import matplotlib.pyplot as plt\n",
      "import numpy as np\n",
      "%matplotlib inline \n",
      "from collections import Counter"
     ],
     "language": "python",
     "metadata": {},
     "outputs": [],
     "prompt_number": 2
    },
    {
     "cell_type": "code",
     "collapsed": false,
     "input": [
      "def read_in_file(filename):\n",
      "    data = pd.read_csv(filename)\n",
      "    return data"
     ],
     "language": "python",
     "metadata": {},
     "outputs": [],
     "prompt_number": 3
    },
    {
     "cell_type": "code",
     "collapsed": false,
     "input": [
      "ethnic_discip = read_in_file('ethnic_discip_state.csv')\n",
      "print(\"Columns are: %s\" %list(ethnic_discip)) # columns of dataframe\n",
      "print(\"Number of entries is: %s\" %len(ethnic_discip)) # num entries"
     ],
     "language": "python",
     "metadata": {},
     "outputs": [
      {
       "output_type": "stream",
       "stream": "stdout",
       "text": [
        "Columns are: ['Ethnicity', 'DisciplineType', 'Weapons', 'Drugs', 'ViolenceWithInjury', 'ViolenceWithoutInjury', 'OtherNonDefiance', 'OtherDefiance', 'Total', 'Year']\n",
        "Number of entries is: 81\n"
       ]
      }
     ],
     "prompt_number": 38
    },
    {
     "cell_type": "code",
     "collapsed": false,
     "input": [
      "ethnic_discip.plot(x='Ethnicity',y ='Drugs', kind = 'scatter',xticks=[0,1,2,3,4,5,6,7,8,9], title = 'Number of Drug Offenses by Ethnicity')"
     ],
     "language": "python",
     "metadata": {},
     "outputs": [
      {
       "metadata": {},
       "output_type": "pyout",
       "prompt_number": 42,
       "text": [
        "<matplotlib.axes._subplots.AxesSubplot at 0x109717828>"
       ]
      },
      {
       "metadata": {},
       "output_type": "display_data",
       "png": "[encoded data removed]",
       "text": [
        "<matplotlib.figure.Figure at 0x1097a49e8>"
       ]
      }
     ],
     "prompt_number": 42
    },
    {
     "cell_type": "code",
     "collapsed": false,
     "input": [
      "byInAm = ethnic_discip[ethnic_discip.Ethnicity==1]\n",
      "byInAm"
     ],
     "language": "python",
     "metadata": {},
     "outputs": [
      {
       "html": [
        "<div style=\"max-height:1000px;max-width:1500px;overflow:auto;\">\n",
        "<table border=\"1\" class=\"dataframe\">\n",
        "  <thead>\n",
        "    <tr style=\"text-align: right;\">\n",
        "      <th></th>\n",
        "      <th>Ethnicity</th>\n",
        "      <th>DisciplineType</th>\n",
        "      <th>Weapons</th>\n",
        "      <th>Drugs</th>\n",
        "      <th>ViolenceWithInjury</th>\n",
        "      <th>ViolenceWithoutInjury</th>\n",
        "      <th>OtherNonDefiance</th>\n",
        "      <th>OtherDefiance</th>\n",
        "      <th>Total</th>\n",
        "      <th>Year</th>\n",
        "    </tr>\n",
        "  </thead>\n",
        "  <tbody>\n",
        "    <tr>\n",
        "      <th>5 </th>\n",
        "      <td> 1</td>\n",
        "      <td> E</td>\n",
        "      <td>  22</td>\n",
        "      <td>  35</td>\n",
        "      <td>  12</td>\n",
        "      <td>   25</td>\n",
        "      <td>   3</td>\n",
        "      <td>    3</td>\n",
        "      <td>  100</td>\n",
        "      <td> 2014</td>\n",
        "    </tr>\n",
        "    <tr>\n",
        "      <th>14</th>\n",
        "      <td> 1</td>\n",
        "      <td> I</td>\n",
        "      <td>  13</td>\n",
        "      <td>  28</td>\n",
        "      <td>  95</td>\n",
        "      <td>  310</td>\n",
        "      <td>  55</td>\n",
        "      <td>  897</td>\n",
        "      <td> 1398</td>\n",
        "      <td> 2014</td>\n",
        "    </tr>\n",
        "    <tr>\n",
        "      <th>23</th>\n",
        "      <td> 1</td>\n",
        "      <td> O</td>\n",
        "      <td> 155</td>\n",
        "      <td> 546</td>\n",
        "      <td> 541</td>\n",
        "      <td> 2179</td>\n",
        "      <td> 253</td>\n",
        "      <td> 1742</td>\n",
        "      <td> 5416</td>\n",
        "      <td> 2014</td>\n",
        "    </tr>\n",
        "    <tr>\n",
        "      <th>32</th>\n",
        "      <td> 1</td>\n",
        "      <td> E</td>\n",
        "      <td>  23</td>\n",
        "      <td>  40</td>\n",
        "      <td>  16</td>\n",
        "      <td>   41</td>\n",
        "      <td>   3</td>\n",
        "      <td>   24</td>\n",
        "      <td>  147</td>\n",
        "      <td> 2013</td>\n",
        "    </tr>\n",
        "    <tr>\n",
        "      <th>41</th>\n",
        "      <td> 1</td>\n",
        "      <td> I</td>\n",
        "      <td>  14</td>\n",
        "      <td>  21</td>\n",
        "      <td> 113</td>\n",
        "      <td>  382</td>\n",
        "      <td>  42</td>\n",
        "      <td> 1377</td>\n",
        "      <td> 1949</td>\n",
        "      <td> 2013</td>\n",
        "    </tr>\n",
        "    <tr>\n",
        "      <th>50</th>\n",
        "      <td> 1</td>\n",
        "      <td> O</td>\n",
        "      <td> 173</td>\n",
        "      <td> 612</td>\n",
        "      <td> 605</td>\n",
        "      <td> 2443</td>\n",
        "      <td> 249</td>\n",
        "      <td> 2368</td>\n",
        "      <td> 6450</td>\n",
        "      <td> 2013</td>\n",
        "    </tr>\n",
        "    <tr>\n",
        "      <th>59</th>\n",
        "      <td> 1</td>\n",
        "      <td> E</td>\n",
        "      <td>  24</td>\n",
        "      <td>  46</td>\n",
        "      <td>  24</td>\n",
        "      <td>   37</td>\n",
        "      <td>   6</td>\n",
        "      <td>   21</td>\n",
        "      <td>  158</td>\n",
        "      <td> 2012</td>\n",
        "    </tr>\n",
        "    <tr>\n",
        "      <th>68</th>\n",
        "      <td> 1</td>\n",
        "      <td> I</td>\n",
        "      <td>   8</td>\n",
        "      <td>  14</td>\n",
        "      <td>  89</td>\n",
        "      <td>  320</td>\n",
        "      <td>  65</td>\n",
        "      <td> 1626</td>\n",
        "      <td> 2122</td>\n",
        "      <td> 2012</td>\n",
        "    </tr>\n",
        "    <tr>\n",
        "      <th>77</th>\n",
        "      <td> 1</td>\n",
        "      <td> O</td>\n",
        "      <td> 213</td>\n",
        "      <td> 548</td>\n",
        "      <td> 615</td>\n",
        "      <td> 2392</td>\n",
        "      <td> 263</td>\n",
        "      <td> 3050</td>\n",
        "      <td> 7081</td>\n",
        "      <td> 2012</td>\n",
        "    </tr>\n",
        "  </tbody>\n",
        "</table>\n",
        "</div>"
       ],
       "metadata": {},
       "output_type": "pyout",
       "prompt_number": 16,
       "text": [
        "    Ethnicity DisciplineType  Weapons  Drugs  ViolenceWithInjury  \\\n",
        "5           1              E       22     35                  12   \n",
        "14          1              I       13     28                  95   \n",
        "23          1              O      155    546                 541   \n",
        "32          1              E       23     40                  16   \n",
        "41          1              I       14     21                 113   \n",
        "50          1              O      173    612                 605   \n",
        "59          1              E       24     46                  24   \n",
        "68          1              I        8     14                  89   \n",
        "77          1              O      213    548                 615   \n",
        "\n",
        "    ViolenceWithoutInjury  OtherNonDefiance  OtherDefiance  Total  Year  \n",
        "5                      25                 3              3    100  2014  \n",
        "14                    310                55            897   1398  2014  \n",
        "23                   2179               253           1742   5416  2014  \n",
        "32                     41                 3             24    147  2013  \n",
        "41                    382                42           1377   1949  2013  \n",
        "50                   2443               249           2368   6450  2013  \n",
        "59                     37                 6             21    158  2012  \n",
        "68                    320                65           1626   2122  2012  \n",
        "77                   2392               263           3050   7081  2012  "
       ]
      }
     ],
     "prompt_number": 16
    },
    {
     "cell_type": "code",
     "collapsed": false,
     "input": [
      "byInAm.plot(x = 'DisciplineType', y = 'Total', kind = 'bar', title = 'Total Indian American Referrals by Year by Type(E,I,0)', legend=True)"
     ],
     "language": "python",
     "metadata": {},
     "outputs": [
      {
       "metadata": {},
       "output_type": "pyout",
       "prompt_number": 22,
       "text": [
        "<matplotlib.axes._subplots.AxesSubplot at 0x10930a518>"
       ]
      },
      {
       "metadata": {},
       "output_type": "display_data",
       "png": "[encoded data removed]",
       "text": [
        "<matplotlib.figure.Figure at 0x10931fe10>"
       ]
      }
     ],
     "prompt_number": 22
    },
    {
     "cell_type": "code",
     "collapsed": false,
     "input": [
      "AsianTypeRef = ethnic_discip[ethnic_discip.Ethnicity==2]\n",
      "AsianTypeRef.plot(x = 'DisciplineType', y = 'Total', kind = 'bar', title='Total Referrals of Asians by Year by Type(EIO)' )"
     ],
     "language": "python",
     "metadata": {},
     "outputs": [
      {
       "metadata": {},
       "output_type": "pyout",
       "prompt_number": 19,
       "text": [
        "<matplotlib.axes._subplots.AxesSubplot at 0x10873c550>"
       ]
      },
      {
       "metadata": {},
       "output_type": "display_data",
       "png": "[encoded data removed]",
       "text": [
        "<matplotlib.figure.Figure at 0x108dedcf8>"
       ]
      }
     ],
     "prompt_number": 19
    },
    {
     "cell_type": "code",
     "collapsed": false,
     "input": [
      "AfAmTypeRef = ethnic_discip[ethnic_discip.Ethnicity==6]\n",
      "AfAmTypeRef.plot(x='DisciplineType', y = 'Total', kind = 'bar',title = 'Total Referrals of African Americans by Year by Type(EIO)')"
     ],
     "language": "python",
     "metadata": {},
     "outputs": [
      {
       "metadata": {},
       "output_type": "pyout",
       "prompt_number": 24,
       "text": [
        "<matplotlib.axes._subplots.AxesSubplot at 0x1090b37f0>"
       ]
      },
      {
       "metadata": {},
       "output_type": "display_data",
       "png": "[encoded data removed]",
       "text": [
        "<matplotlib.figure.Figure at 0x1093f86a0>"
       ]
      }
     ],
     "prompt_number": 24
    },
    {
     "cell_type": "code",
     "collapsed": false,
     "input": [],
     "language": "python",
     "metadata": {},
     "outputs": []
    }
   ],
   "metadata": {}
  }
 ]
}