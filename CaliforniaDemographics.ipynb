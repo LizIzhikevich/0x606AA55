{
 "metadata": {
  "name": "",
  "signature": "sha256:10348502399fa1356ea0f92bff5aa4a9036059619b337a747de5f414baff2786"
 },
 "nbformat": 3,
 "nbformat_minor": 0,
 "worksheets": [
  {
   "cells": [
    {
     "cell_type": "heading",
     "level": 1,
     "metadata": {},
     "source": [
      "California Demographics Descriptive Statistics"
     ]
    },
    {
     "cell_type": "markdown",
     "metadata": {},
     "source": [
      "**Summary**\n",
      "\n",
      "We furthered our analysis on referrals/suspensions by analyzing the California data set. \n",
      "\n",
      "By doing descriptive statistics on the data set of total referrals by schools we found out that the standard deviation of these data sets are actually higher than their mean. Since the entries must be nonzeroes, this implies that a small groups of schools whcih have an exceptionally high number of referrals brought up the standard deviation. In hope of  explaining this unusualness, we looked at the racial composition of schools and found out that schools with higher percentage of ethnic group 5 and 6 are more likely to have higher referrals per person compared to other schools.\n",
      "\n",
      "*This shows the process of extracting useful information from the California Discipline and Referrals Dataset. Methods for extraction and visualization are found below*"
     ]
    },
    {
     "cell_type": "code",
     "collapsed": false,
     "input": [
      "import pandas as pd\n",
      "import pylab as P\n",
      "import matplotlib.pyplot as plt\n",
      "import numpy as np\n",
      "from collections import Counter\n",
      "from nltk import FreqDist\n",
      "%matplotlib inline "
     ],
     "language": "python",
     "metadata": {},
     "outputs": [],
     "prompt_number": 1
    },
    {
     "cell_type": "heading",
     "level": 2,
     "metadata": {},
     "source": [
      "Some methods I wrote for an easier time subsetting and concatnating datasets. "
     ]
    },
    {
     "cell_type": "markdown",
     "metadata": {},
     "source": [
      "*See comments for individual descriptions.*"
     ]
    },
    {
     "cell_type": "code",
     "collapsed": false,
     "input": [
      "# read in file as pandas dataframe\n",
      "def read_in_file(filename):\n",
      "    data = pd.read_csv(filename)\n",
      "    return data\n",
      "\n",
      "# for sanity checks of data within columns\n",
      "#  prints out the unique categorical values found in specified columns\n",
      "def get_unique_values(df, verbose=False):\n",
      "    column_names = list(df)\n",
      "    agg_levels = pd.unique(df[column_names[0]])\n",
      "    names = pd.unique(df[column_names[2]])\n",
      "    discip_type = pd.unique(df[column_names[3]])\n",
      "    ethnic_groups = pd.unique(df[column_names[4]])\n",
      "    if verbose:\n",
      "        print(\"Aggregate Levels are: %s\" % agg_levels)\n",
      "        print(\"Names of schools are: %s\" % names)\n",
      "        print(\"Discipline types are: %s\" % discip_type)\n",
      "        print(\"Ethnic groups are: %s\" % ethnic_groups)\n",
      "    return\n",
      "\n",
      "#  subset the data by AGGREGATION LEVEL\n",
      "#  D=Local educational agency totals (includes districts and direct funded charter schools)\n",
      "#  O=County totals\n",
      "#  S=SchoolTotals\n",
      "#  T=State totals\n",
      "def subset_by_agg_level(df):\n",
      "    column_names = list(df)\n",
      "    county_data = df[df.AggegateLevel == 'O']\n",
      "    district_data = df[df.AggegateLevel == 'D']\n",
      "    school_data = df[df.AggegateLevel == 'S']\n",
      "    state_data = df[df.AggegateLevel == 'T']\n",
      "    # label columns in subset:\n",
      "    county_data.columns = column_names\n",
      "    district_data.columns = column_names\n",
      "    school_data.columns = column_names\n",
      "    state_data.columns = column_names\n",
      "    return county_data, district_data, school_data, state_data\n",
      "\n",
      "#  export a specified dataframe to csv\n",
      "def export_df_to_csv(df, output_filename):\n",
      "    df.to_csv(output_filename, index=False, header=True)\n",
      "    return\n",
      "\n",
      "# grab a subset of a dataframe by column indices\n",
      "def subset_cols_dataframe(df, col_indexes):\n",
      "    subset = df.iloc[:, col_indexes]\n",
      "    return subset\n",
      "\n",
      "# append together an array of dataframes(any number) in order\n",
      "# example: array_df = [dataframe1, dataframe2, dataframe3]\n",
      "def append_dataframes(array_df):\n",
      "    temp = array_df[0]\n",
      "    for i in range(1, len(array_df)):\n",
      "        temp = temp.append(array_df[i])\n",
      "    return temp"
     ],
     "language": "python",
     "metadata": {},
     "outputs": [],
     "prompt_number": 2
    },
    {
     "cell_type": "heading",
     "level": 1,
     "metadata": {},
     "source": [
      "Parsing the California Dataset text files into csv form:"
     ]
    },
    {
     "cell_type": "code",
     "collapsed": false,
     "input": [
      "#  this chunk of code just takes the input csv and subsets it\n",
      "ca14 = read_in_file('CA_discip14.csv')  # 2014 California Data saved in ca14\n",
      "county_data14, district_data14, school_data14, state_data14 = subset_by_agg_level(ca14)\n",
      "ca13 = read_in_file('CA_discip13.csv')  # 2013 California Data saved in ca13\n",
      "county_data13, district_data13, school_data13, state_data13 = subset_by_agg_level(ca13)\n",
      "ca12 = read_in_file('CA_discip12.csv')  # 2012 California Data saved in ca12\n",
      "county_data12, district_data12, school_data12, state_data12 = subset_by_agg_level(ca12)"
     ],
     "language": "python",
     "metadata": {},
     "outputs": [],
     "prompt_number": 3
    },
    {
     "cell_type": "heading",
     "level": 4,
     "metadata": {},
     "source": [
      "Getting a quick overview of values contained in the data (sanity check):"
     ]
    },
    {
     "cell_type": "code",
     "collapsed": false,
     "input": [
      "print(\"2012 data:\")\n",
      "get_unique_values(ca12, verbose=True)\n",
      "print(\"2013 data:\")\n",
      "get_unique_values(ca13, verbose=True)\n",
      "print(\"2014 data:\")\n",
      "get_unique_values(ca14, verbose=True)\n",
      "print(\"-----------------------------------------------------------------------------------------\")"
     ],
     "language": "python",
     "metadata": {},
     "outputs": [
      {
       "output_type": "stream",
       "stream": "stdout",
       "text": [
        "2012 data:\n",
        "Aggregate Levels are: ['O' 'D' 'S' 'T' nan]\n",
        "Names of schools are: ['Alameda' 'Alpine' 'Amador' ..., 'Wheatland Community Day High' 'State'\n",
        " nan]\n",
        "Discipline types are: ['E' 'I' 'O' nan]\n",
        "Ethnic groups are: [  2.   6.   0.   4.   5.   1.   3.   9.   7.  nan]\n",
        "2013 data:\n",
        "Aggregate Levels are: ['O' 'D' 'S' 'T' nan]\n",
        "Names of schools are: ['Alameda' 'Alpine' 'Amador' ..., 'Wheatland Community Day High' 'State'\n",
        " nan]\n",
        "Discipline types are: ['E' 'I' 'O' nan]\n",
        "Ethnic groups are: [  2.   6.   4.   5.   1.   3.   9.   7.   0.  nan]\n",
        "2014 data:\n",
        "Aggregate Levels are: ['O' 'D' 'S' 'T' nan]\n",
        "Names of schools are: ['Alameda' 'Alpine' 'Amador' ..., 'Wheatland Community Day High' 'State'\n",
        " nan]\n",
        "Discipline types are: ['E' 'I' 'O' nan]\n",
        "Ethnic groups are: [  2.   6.   0.   4.   5.   3.   9.   7.   1.  nan]\n",
        "-----------------------------------------------------------------------------------------\n"
       ]
      }
     ],
     "prompt_number": 4
    },
    {
     "cell_type": "heading",
     "level": 1,
     "metadata": {},
     "source": [
      "Querying the Imported Data"
     ]
    },
    {
     "cell_type": "markdown",
     "metadata": {},
     "source": [
      "\n",
      "\n",
      "\n",
      "Since the data imported makes sense (categorial values are as expected, did not split names incorrectly, etc), now we want to **subset the data** with respect to columns we actually need for each analyses. \n",
      "* I made a method earlier called **subset_cols_dataframe(df, col_indexes)** to do this easily. \n",
      "* There is also a method called **append_dataframes(array_df)** which takes in any size array of dataframes and appends them together. I use this method to put together all 3 years worth of data."
     ]
    },
    {
     "cell_type": "heading",
     "level": 2,
     "metadata": {},
     "source": [
      "Looking at Each School's Total Referrals Over Time"
     ]
    },
    {
     "cell_type": "code",
     "collapsed": false,
     "input": [
      "# creating the useful dataframe for visualizing change in schools over time\n",
      "indices_schools = [2, -2,-1]  # for this information we only need the name of school, total referrals, and year\n",
      "\n",
      "schools14 = subset_cols_dataframe(school_data14, indices_schools)  # slicing out columns for each year\n",
      "schools13 = subset_cols_dataframe(school_data13, indices_schools)\n",
      "schools12 = subset_cols_dataframe(school_data12, indices_schools)\n",
      "\n",
      "school_totals = append_dataframes([schools14, schools13, schools12])  # appending all years together"
     ],
     "language": "python",
     "metadata": {},
     "outputs": [],
     "prompt_number": 5
    },
    {
     "cell_type": "heading",
     "level": 3,
     "metadata": {},
     "source": [
      "Now add up the totals with respect to each school:"
     ]
    },
    {
     "cell_type": "code",
     "collapsed": false,
     "input": [
      "by_school = school_totals.groupby(['Name','Year']).sum()\n",
      "print(\"Preview of groupby product: \")\n",
      "print(by_school[0:10])"
     ],
     "language": "python",
     "metadata": {},
     "outputs": [
      {
       "output_type": "stream",
       "stream": "stdout",
       "text": [
        "Preview of groupby product: \n",
        "                                              Total\n",
        "Name                                    Year       \n",
        "100 Black Men of the Bay Area Community 2013      0\n",
        "                                        2014      0\n",
        "180 Program                             2013      0\n",
        "A. E. Arnold Elementary                 2012      0\n",
        "                                        2013      0\n",
        "                                        2014      0\n",
        "A. G. Currie Middle                     2012     84\n",
        "                                        2013     88\n",
        "                                        2014    137\n",
        "A. J. Cook Elementary                   2013      0\n"
       ]
      }
     ],
     "prompt_number": 6
    },
    {
     "cell_type": "heading",
     "level": 2,
     "metadata": {},
     "source": [
      "Descriptive statistics on the totals for each school every year:"
     ]
    },
    {
     "cell_type": "code",
     "collapsed": false,
     "input": [
      "print(by_school.describe())"
     ],
     "language": "python",
     "metadata": {},
     "outputs": [
      {
       "output_type": "stream",
       "stream": "stdout",
       "text": [
        "              Total\n",
        "count  20885.000000\n",
        "mean      51.283649\n",
        "std      115.911895\n",
        "min        0.000000\n",
        "25%        0.000000\n",
        "50%       14.000000\n",
        "75%       54.000000\n",
        "max     3536.000000\n"
       ]
      }
     ],
     "prompt_number": 7
    },
    {
     "cell_type": "heading",
     "level": 3,
     "metadata": {},
     "source": [
      "*Thoughts on these numbers:*\n"
     ]
    },
    {
     "cell_type": "markdown",
     "metadata": {},
     "source": [
      "As you can see, there is a **very high standard deviation** of referrals between schools. What does this tell us? \n",
      "* The range of data, especially at the tails, is very large\n",
      "* Why? Look at the **max number** of referrals at one school.\n",
      "\n",
      "Most schools (75%) have **54 referrals or less a year**."
     ]
    },
    {
     "cell_type": "heading",
     "level": 3,
     "metadata": {},
     "source": [
      "Lets take a closer look at what is causing this skew in the data:"
     ]
    },
    {
     "cell_type": "heading",
     "level": 4,
     "metadata": {},
     "source": [
      "*Schools with the the most referrals:*"
     ]
    },
    {
     "cell_type": "code",
     "collapsed": false,
     "input": [
      "by_school.sort('Total', ascending=False).head(50)"
     ],
     "language": "python",
     "metadata": {},
     "outputs": [
      {
       "html": [
        "<div style=\"max-height:1000px;max-width:1500px;overflow:auto;\">\n",
        "<table border=\"1\" class=\"dataframe\">\n",
        "  <thead>\n",
        "    <tr style=\"text-align: right;\">\n",
        "      <th></th>\n",
        "      <th></th>\n",
        "      <th>Total</th>\n",
        "    </tr>\n",
        "    <tr>\n",
        "      <th>Name</th>\n",
        "      <th>Year</th>\n",
        "      <th></th>\n",
        "    </tr>\n",
        "  </thead>\n",
        "  <tbody>\n",
        "    <tr>\n",
        "      <th>Franklin Middle</th>\n",
        "      <th>2012</th>\n",
        "      <td> 3536</td>\n",
        "    </tr>\n",
        "    <tr>\n",
        "      <th>Garey High</th>\n",
        "      <th>2012</th>\n",
        "      <td> 2927</td>\n",
        "    </tr>\n",
        "    <tr>\n",
        "      <th>Blaker-Kinser Junior High</th>\n",
        "      <th>2012</th>\n",
        "      <td> 2312</td>\n",
        "    </tr>\n",
        "    <tr>\n",
        "      <th>Merrill F. West High</th>\n",
        "      <th>2012</th>\n",
        "      <td> 2248</td>\n",
        "    </tr>\n",
        "    <tr>\n",
        "      <th>Vallejo High</th>\n",
        "      <th>2012</th>\n",
        "      <td> 1963</td>\n",
        "    </tr>\n",
        "    <tr>\n",
        "      <th>Southwest High</th>\n",
        "      <th>2013</th>\n",
        "      <td> 1917</td>\n",
        "    </tr>\n",
        "    <tr>\n",
        "      <th>Central Union High</th>\n",
        "      <th>2012</th>\n",
        "      <td> 1890</td>\n",
        "    </tr>\n",
        "    <tr>\n",
        "      <th>Franklin Middle</th>\n",
        "      <th>2014</th>\n",
        "      <td> 1682</td>\n",
        "    </tr>\n",
        "    <tr>\n",
        "      <th>Encina Preparatory High</th>\n",
        "      <th>2012</th>\n",
        "      <td> 1660</td>\n",
        "    </tr>\n",
        "    <tr>\n",
        "      <th>Fontana High</th>\n",
        "      <th>2012</th>\n",
        "      <td> 1626</td>\n",
        "    </tr>\n",
        "    <tr>\n",
        "      <th>East Bakersfield High</th>\n",
        "      <th>2013</th>\n",
        "      <td> 1617</td>\n",
        "    </tr>\n",
        "    <tr>\n",
        "      <th>Oasis Community</th>\n",
        "      <th>2013</th>\n",
        "      <td> 1597</td>\n",
        "    </tr>\n",
        "    <tr>\n",
        "      <th>Charles W. Tewinkle Middle</th>\n",
        "      <th>2012</th>\n",
        "      <td> 1550</td>\n",
        "    </tr>\n",
        "    <tr>\n",
        "      <th>Los Banos Junior High</th>\n",
        "      <th>2012</th>\n",
        "      <td> 1479</td>\n",
        "    </tr>\n",
        "    <tr>\n",
        "      <th>Eisenhower Senior High</th>\n",
        "      <th>2012</th>\n",
        "      <td> 1448</td>\n",
        "    </tr>\n",
        "    <tr>\n",
        "      <th>Southwest High</th>\n",
        "      <th>2012</th>\n",
        "      <td> 1429</td>\n",
        "    </tr>\n",
        "    <tr>\n",
        "      <th>Calexico High</th>\n",
        "      <th>2013</th>\n",
        "      <td> 1322</td>\n",
        "    </tr>\n",
        "    <tr>\n",
        "      <th>Silverado High</th>\n",
        "      <th>2012</th>\n",
        "      <td> 1310</td>\n",
        "    </tr>\n",
        "    <tr>\n",
        "      <th>San Joaquin County Community</th>\n",
        "      <th>2012</th>\n",
        "      <td> 1299</td>\n",
        "    </tr>\n",
        "    <tr>\n",
        "      <th>Hogan Middle</th>\n",
        "      <th>2014</th>\n",
        "      <td> 1279</td>\n",
        "    </tr>\n",
        "    <tr>\n",
        "      <th>Phoenix High Community Day</th>\n",
        "      <th>2012</th>\n",
        "      <td> 1264</td>\n",
        "    </tr>\n",
        "    <tr>\n",
        "      <th>Bakersfield High</th>\n",
        "      <th>2013</th>\n",
        "      <td> 1230</td>\n",
        "    </tr>\n",
        "    <tr>\n",
        "      <th>Solano Middle</th>\n",
        "      <th>2012</th>\n",
        "      <td> 1157</td>\n",
        "    </tr>\n",
        "    <tr>\n",
        "      <th>Tioga Middle</th>\n",
        "      <th>2012</th>\n",
        "      <td> 1155</td>\n",
        "    </tr>\n",
        "    <tr>\n",
        "      <th>Franklin Middle</th>\n",
        "      <th>2013</th>\n",
        "      <td> 1152</td>\n",
        "    </tr>\n",
        "    <tr>\n",
        "      <th>John Muir Middle</th>\n",
        "      <th>2012</th>\n",
        "      <td> 1138</td>\n",
        "    </tr>\n",
        "    <tr>\n",
        "      <th>South High</th>\n",
        "      <th>2013</th>\n",
        "      <td> 1123</td>\n",
        "    </tr>\n",
        "    <tr>\n",
        "      <th>Alisal High</th>\n",
        "      <th>2013</th>\n",
        "      <td> 1121</td>\n",
        "    </tr>\n",
        "    <tr>\n",
        "      <th>Washington Middle</th>\n",
        "      <th>2012</th>\n",
        "      <td> 1120</td>\n",
        "    </tr>\n",
        "    <tr>\n",
        "      <th>San Leandro High</th>\n",
        "      <th>2012</th>\n",
        "      <td> 1115</td>\n",
        "    </tr>\n",
        "    <tr>\n",
        "      <th>Eisenhower Senior High</th>\n",
        "      <th>2013</th>\n",
        "      <td> 1103</td>\n",
        "    </tr>\n",
        "    <tr>\n",
        "      <th>Victor Valley High</th>\n",
        "      <th>2012</th>\n",
        "      <td> 1076</td>\n",
        "    </tr>\n",
        "    <tr>\n",
        "      <th>Cobalt Institute of Math and Science Academy</th>\n",
        "      <th>2012</th>\n",
        "      <td> 1074</td>\n",
        "    </tr>\n",
        "    <tr>\n",
        "      <th>Estancia High</th>\n",
        "      <th>2012</th>\n",
        "      <td> 1055</td>\n",
        "    </tr>\n",
        "    <tr>\n",
        "      <th>Ukiah High</th>\n",
        "      <th>2012</th>\n",
        "      <td> 1041</td>\n",
        "    </tr>\n",
        "    <tr>\n",
        "      <th>Gifford C. Cole Middle</th>\n",
        "      <th>2012</th>\n",
        "      <td> 1033</td>\n",
        "    </tr>\n",
        "    <tr>\n",
        "      <th>Nidorf Barry J. Juvenile Hall</th>\n",
        "      <th>2012</th>\n",
        "      <td> 1014</td>\n",
        "    </tr>\n",
        "    <tr>\n",
        "      <th>Calexico High</th>\n",
        "      <th>2012</th>\n",
        "      <td> 1012</td>\n",
        "    </tr>\n",
        "    <tr>\n",
        "      <th>Littlerock High</th>\n",
        "      <th>2013</th>\n",
        "      <td> 1000</td>\n",
        "    </tr>\n",
        "    <tr>\n",
        "      <th>Sequoia Middle</th>\n",
        "      <th>2012</th>\n",
        "      <td>  990</td>\n",
        "    </tr>\n",
        "    <tr>\n",
        "      <th>Los Padrinos Juvenile Hall</th>\n",
        "      <th>2013</th>\n",
        "      <td>  979</td>\n",
        "    </tr>\n",
        "    <tr>\n",
        "      <th>Modesto High</th>\n",
        "      <th>2012</th>\n",
        "      <td>  968</td>\n",
        "    </tr>\n",
        "    <tr>\n",
        "      <th>Lincoln High</th>\n",
        "      <th>2012</th>\n",
        "      <td>  954</td>\n",
        "    </tr>\n",
        "    <tr>\n",
        "      <th>Bear Creek High</th>\n",
        "      <th>2013</th>\n",
        "      <td>  953</td>\n",
        "    </tr>\n",
        "    <tr>\n",
        "      <th>Alisal High</th>\n",
        "      <th>2012</th>\n",
        "      <td>  953</td>\n",
        "    </tr>\n",
        "    <tr>\n",
        "      <th>Littlerock High</th>\n",
        "      <th>2014</th>\n",
        "      <td>  949</td>\n",
        "    </tr>\n",
        "    <tr>\n",
        "      <th>Fred C. Beyer High</th>\n",
        "      <th>2012</th>\n",
        "      <td>  947</td>\n",
        "    </tr>\n",
        "    <tr>\n",
        "      <th>Lindsay Senior High</th>\n",
        "      <th>2013</th>\n",
        "      <td>  942</td>\n",
        "    </tr>\n",
        "    <tr>\n",
        "      <th>Saddleback High</th>\n",
        "      <th>2012</th>\n",
        "      <td>  938</td>\n",
        "    </tr>\n",
        "    <tr>\n",
        "      <th>Silverado High</th>\n",
        "      <th>2014</th>\n",
        "      <td>  933</td>\n",
        "    </tr>\n",
        "  </tbody>\n",
        "</table>\n",
        "</div>"
       ],
       "metadata": {},
       "output_type": "pyout",
       "prompt_number": 8,
       "text": [
        "                                                   Total\n",
        "Name                                         Year       \n",
        "Franklin Middle                              2012   3536\n",
        "Garey High                                   2012   2927\n",
        "Blaker-Kinser Junior High                    2012   2312\n",
        "Merrill F. West High                         2012   2248\n",
        "Vallejo High                                 2012   1963\n",
        "Southwest High                               2013   1917\n",
        "Central Union High                           2012   1890\n",
        "Franklin Middle                              2014   1682\n",
        "Encina Preparatory High                      2012   1660\n",
        "Fontana High                                 2012   1626\n",
        "East Bakersfield High                        2013   1617\n",
        "Oasis Community                              2013   1597\n",
        "Charles W. Tewinkle Middle                   2012   1550\n",
        "Los Banos Junior High                        2012   1479\n",
        "Eisenhower Senior High                       2012   1448\n",
        "Southwest High                               2012   1429\n",
        "Calexico High                                2013   1322\n",
        "Silverado High                               2012   1310\n",
        "San Joaquin County Community                 2012   1299\n",
        "Hogan Middle                                 2014   1279\n",
        "Phoenix High Community Day                   2012   1264\n",
        "Bakersfield High                             2013   1230\n",
        "Solano Middle                                2012   1157\n",
        "Tioga Middle                                 2012   1155\n",
        "Franklin Middle                              2013   1152\n",
        "John Muir Middle                             2012   1138\n",
        "South High                                   2013   1123\n",
        "Alisal High                                  2013   1121\n",
        "Washington Middle                            2012   1120\n",
        "San Leandro High                             2012   1115\n",
        "Eisenhower Senior High                       2013   1103\n",
        "Victor Valley High                           2012   1076\n",
        "Cobalt Institute of Math and Science Academy 2012   1074\n",
        "Estancia High                                2012   1055\n",
        "Ukiah High                                   2012   1041\n",
        "Gifford C. Cole Middle                       2012   1033\n",
        "Nidorf Barry J. Juvenile Hall                2012   1014\n",
        "Calexico High                                2012   1012\n",
        "Littlerock High                              2013   1000\n",
        "Sequoia Middle                               2012    990\n",
        "Los Padrinos Juvenile Hall                   2013    979\n",
        "Modesto High                                 2012    968\n",
        "Lincoln High                                 2012    954\n",
        "Bear Creek High                              2013    953\n",
        "Alisal High                                  2012    953\n",
        "Littlerock High                              2014    949\n",
        "Fred C. Beyer High                           2012    947\n",
        "Lindsay Senior High                          2013    942\n",
        "Saddleback High                              2012    938\n",
        "Silverado High                               2014    933"
       ]
      }
     ],
     "prompt_number": 8
    },
    {
     "cell_type": "heading",
     "level": 3,
     "metadata": {},
     "source": [
      "Cumulative Histogram of total referrals per year"
     ]
    },
    {
     "cell_type": "code",
     "collapsed": false,
     "input": [
      "total_ref = by_school.Total.tolist() # get just the number total referrals/year in a list\n",
      "cleanedList = [x for x in total_ref if str(x) != 'nan']  # temp fix since my 'nan' is string not NaN\n",
      "\n",
      "# make histogram from this list of values\n",
      "yearly_ref = Counter()\n",
      "for value in cleanedList:\n",
      "    yearly_ref[value] += 1\n",
      "    \n",
      "yearly_ref_values = list(yearly_ref.keys())"
     ],
     "language": "python",
     "metadata": {},
     "outputs": [],
     "prompt_number": 9
    },
    {
     "cell_type": "heading",
     "level": 4,
     "metadata": {},
     "source": [
      "Most common number of referrals per School per Year in (occurence, num_schools) form"
     ]
    },
    {
     "cell_type": "code",
     "collapsed": false,
     "input": [
      "print(yearly_ref.most_common(15))"
     ],
     "language": "python",
     "metadata": {},
     "outputs": [
      {
       "output_type": "stream",
       "stream": "stdout",
       "text": [
        "[(0.0, 9089), (11.0, 564), (12.0, 450), (13.0, 329), (14.0, 285), (15.0, 275), (16.0, 243), (17.0, 203), (25.0, 181), (18.0, 175), (20.0, 164), (27.0, 163), (19.0, 161), (22.0, 161), (23.0, 152)]\n"
       ]
      }
     ],
     "prompt_number": 10
    },
    {
     "cell_type": "code",
     "collapsed": false,
     "input": [
      "P.hist(yearly_ref_values, bins=100, facecolor='green')\n",
      "plt.title('Counts of Number of Referrals per Year')\n",
      "plt.ylabel('Number of Schools')\n",
      "plt.xlabel('Number Referrals')\n"
     ],
     "language": "python",
     "metadata": {},
     "outputs": [
      {
       "metadata": {},
       "output_type": "pyout",
       "prompt_number": 11,
       "text": [
        "<matplotlib.text.Text at 0x10df87588>"
       ]
      },
      {
       "metadata": {},
       "output_type": "display_data",
       "png": "[encoded data removed]",
       "text": [
        "<matplotlib.figure.Figure at 0x10d478828>"
       ]
      }
     ],
     "prompt_number": 11
    },
    {
     "cell_type": "markdown",
     "metadata": {},
     "source": [
      "## Takeaways\n",
      "* There are a small number of schools which have _a **lot more** referrals than the average school_\n",
      "* This is an interesting point to keep in mind when approaching how to model the rest of the data\n",
      "* Although the greater majority of schools may have a low number of yearly referrals, our job is not done\n",
      "* It's more important to focus on the few schools that have an extraordinarily large amount of referrals\n"
     ]
    },
    {
     "cell_type": "markdown",
     "metadata": {},
     "source": [
      "# Why do *select schools* have such a **large number of referrals** compared to the majority?\n",
      "\n"
     ]
    },
    {
     "cell_type": "code",
     "collapsed": false,
     "input": [
      "#  choose which columns you want to subset\n",
      "indices_ethnicity = [4, 6, 12]\n",
      "\n",
      "# state data w/o agg_level and CID and name\n",
      "indices_IDless = [4, 3, 5, 6, 7, 8, 9, 10, 12]\n",
      "ethnic14state = subset_cols_dataframe(state_data14, indices_IDless)\n",
      "ethnic13state = subset_cols_dataframe(state_data13, indices_IDless)\n",
      "ethnic12state = subset_cols_dataframe(state_data12, indices_IDless)\n",
      "\n",
      "# append the state data from all 3 years together\n",
      "ethnic_discip_state = append_dataframes([ethnic14state, ethnic13state, ethnic12state])\n",
      "\n",
      "# optional: uncomment to export this dataframe in csv form\n",
      "# export_df_to_csv(ethnic_discip_state, 'ethnic_discip_state.csv')"
     ],
     "language": "python",
     "metadata": {},
     "outputs": [],
     "prompt_number": 12
    },
    {
     "cell_type": "heading",
     "level": 2,
     "metadata": {},
     "source": [
      "\n",
      "\n",
      "Creating dataframe for visualizing descriptive statistics on referrals with respect to ethnicity:\n"
     ]
    },
    {
     "cell_type": "heading",
     "level": 5,
     "metadata": {},
     "source": [
      "Now, to see at the number of referrals of each ethnicity with repect to year:"
     ]
    },
    {
     "cell_type": "code",
     "collapsed": false,
     "input": [
      "group_year_ethnicity = ethnic_discip_state.groupby(['Ethnicity', 'Year']).sum()\n",
      "group_ethnic = ethnic_discip_state.groupby(['Ethnicity']).sum()\n",
      "group_year = ethnic_discip_state.groupby(['Year']).sum()\n",
      "\n",
      "# optional: uncomment to export this dataframe in csv form\n",
      "# export_df_to_csv(group_year_ethnicity, 'group_year_ethnicity.csv')"
     ],
     "language": "python",
     "metadata": {},
     "outputs": [],
     "prompt_number": 13
    },
    {
     "cell_type": "heading",
     "level": 4,
     "metadata": {},
     "source": [
      "This information visualized:"
     ]
    },
    {
     "cell_type": "code",
     "collapsed": false,
     "input": [
      "group_year_ethnicity.plot(kind = 'bar',stacked = True, title = 'Referrals by Ethnicity and Year')"
     ],
     "language": "python",
     "metadata": {},
     "outputs": [
      {
       "metadata": {},
       "output_type": "pyout",
       "prompt_number": 14,
       "text": [
        "<matplotlib.axes._subplots.AxesSubplot at 0x10ec9b668>"
       ]
      },
      {
       "metadata": {},
       "output_type": "display_data",
       "png": "[encoded data removed]",
       "text": [
        "<matplotlib.figure.Figure at 0x10d478a90>"
       ]
      }
     ],
     "prompt_number": 14
    },
    {
     "cell_type": "code",
     "collapsed": false,
     "input": [
      "#InAmGroup = group_year_ethnicity.groupby(group_year_ethnicity.Ethnicity==1)\n"
     ],
     "language": "python",
     "metadata": {},
     "outputs": [],
     "prompt_number": 15
    },
    {
     "cell_type": "code",
     "collapsed": false,
     "input": [
      "group_year_ethnicity.describe().plot(kind = 'area', stacked =True, title = '')\n"
     ],
     "language": "python",
     "metadata": {},
     "outputs": [
      {
       "metadata": {},
       "output_type": "pyout",
       "prompt_number": 16,
       "text": [
        "<matplotlib.axes._subplots.AxesSubplot at 0x110994668>"
       ]
      },
      {
       "metadata": {},
       "output_type": "display_data",
       "png": "[encoded data removed]",
       "text": [
        "<matplotlib.figure.Figure at 0x110982c18>"
       ]
      }
     ],
     "prompt_number": 16
    },
    {
     "cell_type": "code",
     "collapsed": false,
     "input": [
      "group_year_ethnicity.describe()"
     ],
     "language": "python",
     "metadata": {},
     "outputs": [
      {
       "html": [
        "<div style=\"max-height:1000px;max-width:1500px;overflow:auto;\">\n",
        "<table border=\"1\" class=\"dataframe\">\n",
        "  <thead>\n",
        "    <tr style=\"text-align: right;\">\n",
        "      <th></th>\n",
        "      <th>Weapons</th>\n",
        "      <th>Drugs</th>\n",
        "      <th>ViolenceWithInjury</th>\n",
        "      <th>ViolenceWithoutInjury</th>\n",
        "      <th>OtherNonDefiance</th>\n",
        "      <th>OtherDefiance</th>\n",
        "    </tr>\n",
        "  </thead>\n",
        "  <tbody>\n",
        "    <tr>\n",
        "      <th>count</th>\n",
        "      <td>   27.000000</td>\n",
        "      <td>    27.00000</td>\n",
        "      <td>    27.000000</td>\n",
        "      <td>     27.000000</td>\n",
        "      <td>    27.000000</td>\n",
        "      <td>     27.000000</td>\n",
        "    </tr>\n",
        "    <tr>\n",
        "      <th>mean</th>\n",
        "      <td> 1698.888889</td>\n",
        "      <td>  5519.62963</td>\n",
        "      <td>  5588.814815</td>\n",
        "      <td>  22907.000000</td>\n",
        "      <td>  3082.592593</td>\n",
        "      <td>  29629.111111</td>\n",
        "    </tr>\n",
        "    <tr>\n",
        "      <th>std</th>\n",
        "      <td> 2744.328001</td>\n",
        "      <td>  9428.57981</td>\n",
        "      <td>  8030.540436</td>\n",
        "      <td>  33888.038374</td>\n",
        "      <td>  4863.285675</td>\n",
        "      <td>  48120.322021</td>\n",
        "    </tr>\n",
        "    <tr>\n",
        "      <th>min</th>\n",
        "      <td>   76.000000</td>\n",
        "      <td>   199.00000</td>\n",
        "      <td>   270.000000</td>\n",
        "      <td>   1053.000000</td>\n",
        "      <td>   133.000000</td>\n",
        "      <td>    965.000000</td>\n",
        "    </tr>\n",
        "    <tr>\n",
        "      <th>25%</th>\n",
        "      <td>  159.000000</td>\n",
        "      <td>   503.50000</td>\n",
        "      <td>   456.500000</td>\n",
        "      <td>   1558.500000</td>\n",
        "      <td>   287.500000</td>\n",
        "      <td>   1992.500000</td>\n",
        "    </tr>\n",
        "    <tr>\n",
        "      <th>50%</th>\n",
        "      <td>  324.000000</td>\n",
        "      <td>  1012.00000</td>\n",
        "      <td>  1015.000000</td>\n",
        "      <td>   4315.000000</td>\n",
        "      <td>   597.000000</td>\n",
        "      <td>   4697.000000</td>\n",
        "    </tr>\n",
        "    <tr>\n",
        "      <th>75%</th>\n",
        "      <td> 1801.500000</td>\n",
        "      <td>  5563.50000</td>\n",
        "      <td> 10269.000000</td>\n",
        "      <td>  41724.000000</td>\n",
        "      <td>  4322.000000</td>\n",
        "      <td>  43781.000000</td>\n",
        "    </tr>\n",
        "    <tr>\n",
        "      <th>max</th>\n",
        "      <td> 9432.000000</td>\n",
        "      <td> 31517.00000</td>\n",
        "      <td> 25863.000000</td>\n",
        "      <td> 111628.000000</td>\n",
        "      <td> 15880.000000</td>\n",
        "      <td> 190815.000000</td>\n",
        "    </tr>\n",
        "  </tbody>\n",
        "</table>\n",
        "</div>"
       ],
       "metadata": {},
       "output_type": "pyout",
       "prompt_number": 17,
       "text": [
        "           Weapons        Drugs  ViolenceWithInjury  ViolenceWithoutInjury  \\\n",
        "count    27.000000     27.00000           27.000000              27.000000   \n",
        "mean   1698.888889   5519.62963         5588.814815           22907.000000   \n",
        "std    2744.328001   9428.57981         8030.540436           33888.038374   \n",
        "min      76.000000    199.00000          270.000000            1053.000000   \n",
        "25%     159.000000    503.50000          456.500000            1558.500000   \n",
        "50%     324.000000   1012.00000         1015.000000            4315.000000   \n",
        "75%    1801.500000   5563.50000        10269.000000           41724.000000   \n",
        "max    9432.000000  31517.00000        25863.000000          111628.000000   \n",
        "\n",
        "       OtherNonDefiance  OtherDefiance  \n",
        "count         27.000000      27.000000  \n",
        "mean        3082.592593   29629.111111  \n",
        "std         4863.285675   48120.322021  \n",
        "min          133.000000     965.000000  \n",
        "25%          287.500000    1992.500000  \n",
        "50%          597.000000    4697.000000  \n",
        "75%         4322.000000   43781.000000  \n",
        "max        15880.000000  190815.000000  "
       ]
      }
     ],
     "prompt_number": 17
    },
    {
     "cell_type": "code",
     "collapsed": false,
     "input": [
      "ethnic_discip = read_in_file('ethnic_discip_state.csv')\n",
      "print(\"Columns are: %s\" %list(ethnic_discip)) # columns of dataframe\n",
      "print(\"Number of entries is: %s\" %len(ethnic_discip)) # num entries"
     ],
     "language": "python",
     "metadata": {},
     "outputs": [
      {
       "output_type": "stream",
       "stream": "stdout",
       "text": [
        "Columns are: ['Ethnicity', 'DisciplineType', 'Weapons', 'Drugs', 'ViolenceWithInjury', 'ViolenceWithoutInjury', 'OtherNonDefiance', 'OtherDefiance', 'Total', 'Year']\n",
        "Number of entries is: 81\n"
       ]
      }
     ],
     "prompt_number": 18
    },
    {
     "cell_type": "code",
     "collapsed": false,
     "input": [
      "ethnic_discip.plot(x='Ethnicity',y ='Drugs', kind = 'scatter',xticks=[0,1,2,3,4,5,6,7,8,9], title = 'Total Referrals by Ethnicity')"
     ],
     "language": "python",
     "metadata": {},
     "outputs": [
      {
       "metadata": {},
       "output_type": "pyout",
       "prompt_number": 19,
       "text": [
        "<matplotlib.axes._subplots.AxesSubplot at 0x112d8ddd8>"
       ]
      },
      {
       "metadata": {},
       "output_type": "display_data",
       "png": "[encoded data removed]",
       "text": [
        "<matplotlib.figure.Figure at 0x112d526a0>"
       ]
      }
     ],
     "prompt_number": 19
    },
    {
     "cell_type": "code",
     "collapsed": false,
     "input": [
      "byInAm = ethnic_discip[ethnic_discip.Ethnicity==1]\n",
      "print(byInAm)"
     ],
     "language": "python",
     "metadata": {},
     "outputs": [
      {
       "output_type": "stream",
       "stream": "stdout",
       "text": [
        "    Ethnicity DisciplineType  Weapons  Drugs  ViolenceWithInjury  \\\n",
        "5           1              E       22     35                  12   \n",
        "14          1              I       13     28                  95   \n",
        "23          1              O      155    546                 541   \n",
        "32          1              E       23     40                  16   \n",
        "41          1              I       14     21                 113   \n",
        "50          1              O      173    612                 605   \n",
        "59          1              E       24     46                  24   \n",
        "68          1              I        8     14                  89   \n",
        "77          1              O      213    548                 615   \n",
        "\n",
        "    ViolenceWithoutInjury  OtherNonDefiance  OtherDefiance  Total  Year  \n",
        "5                      25                 3              3    100  2014  \n",
        "14                    310                55            897   1398  2014  \n",
        "23                   2179               253           1742   5416  2014  \n",
        "32                     41                 3             24    147  2013  \n",
        "41                    382                42           1377   1949  2013  \n",
        "50                   2443               249           2368   6450  2013  \n",
        "59                     37                 6             21    158  2012  \n",
        "68                    320                65           1626   2122  2012  \n",
        "77                   2392               263           3050   7081  2012  \n"
       ]
      }
     ],
     "prompt_number": 20
    },
    {
     "cell_type": "code",
     "collapsed": false,
     "input": [
      "year = byInAm.groupby(['Year']).sum()\n",
      "print(year)\n",
      "\n"
     ],
     "language": "python",
     "metadata": {},
     "outputs": [
      {
       "output_type": "stream",
       "stream": "stdout",
       "text": [
        "      Ethnicity  Weapons  Drugs  ViolenceWithInjury  ViolenceWithoutInjury  \\\n",
        "Year                                                                         \n",
        "2012          3      245    608                 728                   2749   \n",
        "2013          3      210    673                 734                   2866   \n",
        "2014          3      190    609                 648                   2514   \n",
        "\n",
        "      OtherNonDefiance  OtherDefiance  Total  \n",
        "Year                                          \n",
        "2012               334           4697   9361  \n",
        "2013               294           3769   8546  \n",
        "2014               311           2642   6914  \n"
       ]
      }
     ],
     "prompt_number": 21
    },
    {
     "cell_type": "code",
     "collapsed": false,
     "input": [],
     "language": "python",
     "metadata": {},
     "outputs": [],
     "prompt_number": 21
    }
   ],
   "metadata": {}
  }
 ]
}